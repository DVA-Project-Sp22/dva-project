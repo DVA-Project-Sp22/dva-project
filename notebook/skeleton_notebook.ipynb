{
 "cells": [
  {
   "cell_type": "markdown",
   "metadata": {},
   "source": [
    "# Library"
   ]
  },
  {
   "cell_type": "code",
   "execution_count": 2,
   "metadata": {},
   "outputs": [],
   "source": [
    "import pandas as pd\n",
    "import sys"
   ]
  },
  {
   "cell_type": "code",
   "execution_count": 20,
   "metadata": {},
   "outputs": [
    {
     "name": "stdout",
     "output_type": "stream",
     "text": [
      "Can you see this?\n"
     ]
    }
   ],
   "source": [
    "print(\"Can you see this?\")"
   ]
  },
  {
   "cell_type": "code",
   "execution_count": 5,
   "metadata": {},
   "outputs": [
    {
     "name": "stdout",
     "output_type": "stream",
     "text": [
      "/opt/conda/lib/python3.7/site-packages/secretstorage/dhcrypto.py:16: CryptographyDeprecationWarning: int_from_bytes is deprecated, use int.from_bytes instead\n",
      "  from cryptography.utils import int_from_bytes\n",
      "/opt/conda/lib/python3.7/site-packages/secretstorage/util.py:25: CryptographyDeprecationWarning: int_from_bytes is deprecated, use int.from_bytes instead\n",
      "  from cryptography.utils import int_from_bytes\n",
      "Collecting PyAthena\n",
      "  Using cached PyAthena-2.5.1-py3-none-any.whl (40 kB)\n",
      "Requirement already satisfied: botocore>=1.5.52 in /opt/conda/lib/python3.7/site-packages (from PyAthena) (1.23.23)\n",
      "Requirement already satisfied: tenacity>=4.1.0 in /opt/conda/lib/python3.7/site-packages (from PyAthena) (8.0.1)\n",
      "Requirement already satisfied: boto3>=1.4.4 in /opt/conda/lib/python3.7/site-packages (from PyAthena) (1.20.23)\n",
      "Requirement already satisfied: s3transfer<0.6.0,>=0.5.0 in /opt/conda/lib/python3.7/site-packages (from boto3>=1.4.4->PyAthena) (0.5.0)\n",
      "Requirement already satisfied: jmespath<1.0.0,>=0.7.1 in /opt/conda/lib/python3.7/site-packages (from boto3>=1.4.4->PyAthena) (0.10.0)\n",
      "Requirement already satisfied: python-dateutil<3.0.0,>=2.1 in /opt/conda/lib/python3.7/site-packages (from botocore>=1.5.52->PyAthena) (2.8.1)\n",
      "Requirement already satisfied: urllib3<1.27,>=1.25.4 in /opt/conda/lib/python3.7/site-packages (from botocore>=1.5.52->PyAthena) (1.26.7)\n",
      "Requirement already satisfied: six>=1.5 in /opt/conda/lib/python3.7/site-packages (from python-dateutil<3.0.0,>=2.1->botocore>=1.5.52->PyAthena) (1.14.0)\n",
      "Installing collected packages: PyAthena\n",
      "Successfully installed PyAthena-2.5.1\n",
      "\u001b[33mWARNING: Running pip as the 'root' user can result in broken permissions and conflicting behaviour with the system package manager. It is recommended to use a virtual environment instead: https://pip.pypa.io/warnings/venv\u001b[0m\n",
      "\u001b[33mWARNING: You are using pip version 21.3.1; however, version 22.0.4 is available.\n",
      "You should consider upgrading via the '/opt/conda/bin/python -m pip install --upgrade pip' command.\u001b[0m\n"
     ]
    }
   ],
   "source": [
    "!{sys.executable} -m pip install PyAthena"
   ]
  },
  {
   "cell_type": "code",
   "execution_count": 30,
   "metadata": {},
   "outputs": [],
   "source": [
    "from pyathena import connect"
   ]
  },
  {
   "cell_type": "code",
   "execution_count": 31,
   "metadata": {},
   "outputs": [],
   "source": [
    "import numpy as np\n",
    "import matplotlib.pyplot as plt"
   ]
  },
  {
   "cell_type": "code",
   "execution_count": 32,
   "metadata": {},
   "outputs": [],
   "source": [
    "from sklearn.preprocessing import StandardScaler, OneHotEncoder\n",
    "from sklearn.pipeline import Pipeline\n",
    "from sklearn.compose import ColumnTransformer\n",
    "from sklearn.cluster import KMeans,DBSCAN, SpectralClustering\n",
    "from sklearn.metrics import silhouette_score, calinski_harabasz_score\n",
    "from sklearn.impute import SimpleImputer\n",
    "from sklearn.decomposition import SparsePCA\n",
    "from scipy import sparse as sp\n",
    "import scipy"
   ]
  },
  {
   "cell_type": "code",
   "execution_count": 33,
   "metadata": {},
   "outputs": [],
   "source": [
    "np.random.seed(1)"
   ]
  },
  {
   "cell_type": "markdown",
   "metadata": {},
   "source": [
    "# Getting Data\n",
    "* Only getting 2000 records (remove the limit for full set)"
   ]
  },
  {
   "cell_type": "code",
   "execution_count": null,
   "metadata": {},
   "outputs": [],
   "source": [
    "conn = connect(s3_staging_dir='s3://athena-results-c7fhgh8/',\n",
    "               region_name='us-east-1')\n",
    "\n",
    "df = pd.read_sql(\"select * from \\\"millionsongdataset-intermediate\\\".songdata;\", conn)"
   ]
  },
  {
   "cell_type": "code",
   "execution_count": null,
   "metadata": {},
   "outputs": [],
   "source": [
    "df.shape"
   ]
  },
  {
   "cell_type": "markdown",
   "metadata": {},
   "source": [
    "# EDA"
   ]
  },
  {
   "cell_type": "code",
   "execution_count": 12,
   "metadata": {
    "scrolled": true
   },
   "outputs": [
    {
     "data": {
      "text/plain": [
       "analysis_sample_rate                int64\n",
       "audio_md5                          object\n",
       "danceability                      float64\n",
       "duration                          float64\n",
       "end_of_fade_in                    float64\n",
       "energy                            float64\n",
       "idx_bars_confidence                 int64\n",
       "idx_bars_start                      int64\n",
       "idx_beats_confidence                int64\n",
       "idx_beats_start                     int64\n",
       "idx_sections_confidence             int64\n",
       "idx_sections_start                  int64\n",
       "idx_segments_confidence             int64\n",
       "idx_segments_loudness_max           int64\n",
       "idx_segments_loudness_max_time      int64\n",
       "idx_segments_loudness_start         int64\n",
       "idx_segments_pitches                int64\n",
       "idx_segments_start                  int64\n",
       "idx_segments_timbre                 int64\n",
       "idx_tatums_confidence               int64\n",
       "idx_tatums_start                    int64\n",
       "key                                 int64\n",
       "key_confidence                    float64\n",
       "loudness                          float64\n",
       "mode                                int64\n",
       "mode_confidence                   float64\n",
       "start_of_fade_out                 float64\n",
       "tempo                             float64\n",
       "time_signature                      int64\n",
       "time_signature_confidence         float64\n",
       "track_id                           object\n",
       "analyzer_version                   object\n",
       "artist_7digitalid                   int64\n",
       "artist_familiarity                float64\n",
       "artist_hotttnesss                 float64\n",
       "artist_id                          object\n",
       "artist_latitude                   float64\n",
       "artist_location                    object\n",
       "artist_longitude                  float64\n",
       "artist_mbid                        object\n",
       "artist_name                        object\n",
       "artist_playmeid                   float64\n",
       "genre                              object\n",
       "idx_artist_terms                  float64\n",
       "idx_similar_artists               float64\n",
       "release                            object\n",
       "release_7digitalid                float64\n",
       "song_hotttnesss                   float64\n",
       "song_id                            object\n",
       "title                              object\n",
       "track_7digitalid                  float64\n",
       "idx_artist_mbtags                 float64\n",
       "year                                int64\n",
       "dtype: object"
      ]
     },
     "execution_count": 12,
     "metadata": {},
     "output_type": "execute_result"
    }
   ],
   "source": [
    "df.dtypes"
   ]
  },
  {
   "cell_type": "code",
   "execution_count": 13,
   "metadata": {},
   "outputs": [
    {
     "data": {
      "text/html": [
       "<div>\n",
       "<style scoped>\n",
       "    .dataframe tbody tr th:only-of-type {\n",
       "        vertical-align: middle;\n",
       "    }\n",
       "\n",
       "    .dataframe tbody tr th {\n",
       "        vertical-align: top;\n",
       "    }\n",
       "\n",
       "    .dataframe thead th {\n",
       "        text-align: right;\n",
       "    }\n",
       "</style>\n",
       "<table border=\"1\" class=\"dataframe\">\n",
       "  <thead>\n",
       "    <tr style=\"text-align: right;\">\n",
       "      <th></th>\n",
       "      <th>analysis_sample_rate</th>\n",
       "      <th>danceability</th>\n",
       "      <th>duration</th>\n",
       "      <th>end_of_fade_in</th>\n",
       "      <th>energy</th>\n",
       "      <th>idx_bars_confidence</th>\n",
       "      <th>idx_bars_start</th>\n",
       "      <th>idx_beats_confidence</th>\n",
       "      <th>idx_beats_start</th>\n",
       "      <th>idx_sections_confidence</th>\n",
       "      <th>...</th>\n",
       "      <th>artist_latitude</th>\n",
       "      <th>artist_longitude</th>\n",
       "      <th>artist_playmeid</th>\n",
       "      <th>idx_artist_terms</th>\n",
       "      <th>idx_similar_artists</th>\n",
       "      <th>release_7digitalid</th>\n",
       "      <th>song_hotttnesss</th>\n",
       "      <th>track_7digitalid</th>\n",
       "      <th>idx_artist_mbtags</th>\n",
       "      <th>year</th>\n",
       "    </tr>\n",
       "  </thead>\n",
       "  <tbody>\n",
       "    <tr>\n",
       "      <th>count</th>\n",
       "      <td>2000.0</td>\n",
       "      <td>2000.0</td>\n",
       "      <td>2000.000000</td>\n",
       "      <td>2000.000000</td>\n",
       "      <td>2000.0</td>\n",
       "      <td>2000.0</td>\n",
       "      <td>2000.0</td>\n",
       "      <td>2000.0</td>\n",
       "      <td>2000.0</td>\n",
       "      <td>2000.0</td>\n",
       "      <td>...</td>\n",
       "      <td>681.000000</td>\n",
       "      <td>247.000000</td>\n",
       "      <td>1351.000000</td>\n",
       "      <td>1401.000000</td>\n",
       "      <td>1950.0</td>\n",
       "      <td>1401.000000</td>\n",
       "      <td>1330.000000</td>\n",
       "      <td>1.351000e+03</td>\n",
       "      <td>1.950000e+03</td>\n",
       "      <td>2.000000e+03</td>\n",
       "    </tr>\n",
       "    <tr>\n",
       "      <th>mean</th>\n",
       "      <td>22050.0</td>\n",
       "      <td>0.0</td>\n",
       "      <td>247.796431</td>\n",
       "      <td>0.788751</td>\n",
       "      <td>0.0</td>\n",
       "      <td>0.0</td>\n",
       "      <td>0.0</td>\n",
       "      <td>0.0</td>\n",
       "      <td>0.0</td>\n",
       "      <td>0.0</td>\n",
       "      <td>...</td>\n",
       "      <td>38.688448</td>\n",
       "      <td>-46.831220</td>\n",
       "      <td>26472.911917</td>\n",
       "      <td>1086.655960</td>\n",
       "      <td>0.0</td>\n",
       "      <td>373010.990007</td>\n",
       "      <td>166634.578163</td>\n",
       "      <td>4.289103e+06</td>\n",
       "      <td>1.265419e+06</td>\n",
       "      <td>8.176665e+04</td>\n",
       "    </tr>\n",
       "    <tr>\n",
       "      <th>std</th>\n",
       "      <td>0.0</td>\n",
       "      <td>0.0</td>\n",
       "      <td>121.979201</td>\n",
       "      <td>2.144227</td>\n",
       "      <td>0.0</td>\n",
       "      <td>0.0</td>\n",
       "      <td>0.0</td>\n",
       "      <td>0.0</td>\n",
       "      <td>0.0</td>\n",
       "      <td>0.0</td>\n",
       "      <td>...</td>\n",
       "      <td>15.928785</td>\n",
       "      <td>68.051943</td>\n",
       "      <td>47815.161731</td>\n",
       "      <td>11528.775696</td>\n",
       "      <td>0.0</td>\n",
       "      <td>238076.315480</td>\n",
       "      <td>244997.037453</td>\n",
       "      <td>2.577445e+06</td>\n",
       "      <td>2.410913e+06</td>\n",
       "      <td>6.580888e+05</td>\n",
       "    </tr>\n",
       "    <tr>\n",
       "      <th>min</th>\n",
       "      <td>22050.0</td>\n",
       "      <td>0.0</td>\n",
       "      <td>7.104850</td>\n",
       "      <td>0.000000</td>\n",
       "      <td>0.0</td>\n",
       "      <td>0.0</td>\n",
       "      <td>0.0</td>\n",
       "      <td>0.0</td>\n",
       "      <td>0.0</td>\n",
       "      <td>0.0</td>\n",
       "      <td>...</td>\n",
       "      <td>-43.587710</td>\n",
       "      <td>-155.434140</td>\n",
       "      <td>-1.000000</td>\n",
       "      <td>-1.000000</td>\n",
       "      <td>0.0</td>\n",
       "      <td>0.000000</td>\n",
       "      <td>0.000000</td>\n",
       "      <td>4.177000e+03</td>\n",
       "      <td>0.000000e+00</td>\n",
       "      <td>0.000000e+00</td>\n",
       "    </tr>\n",
       "    <tr>\n",
       "      <th>25%</th>\n",
       "      <td>22050.0</td>\n",
       "      <td>0.0</td>\n",
       "      <td>181.870565</td>\n",
       "      <td>0.000000</td>\n",
       "      <td>0.0</td>\n",
       "      <td>0.0</td>\n",
       "      <td>0.0</td>\n",
       "      <td>0.0</td>\n",
       "      <td>0.0</td>\n",
       "      <td>0.0</td>\n",
       "      <td>...</td>\n",
       "      <td>34.053490</td>\n",
       "      <td>-92.283570</td>\n",
       "      <td>-1.000000</td>\n",
       "      <td>0.000000</td>\n",
       "      <td>0.0</td>\n",
       "      <td>163604.000000</td>\n",
       "      <td>0.345802</td>\n",
       "      <td>2.078440e+06</td>\n",
       "      <td>0.000000e+00</td>\n",
       "      <td>0.000000e+00</td>\n",
       "    </tr>\n",
       "    <tr>\n",
       "      <th>50%</th>\n",
       "      <td>22050.0</td>\n",
       "      <td>0.0</td>\n",
       "      <td>226.363625</td>\n",
       "      <td>0.184000</td>\n",
       "      <td>0.0</td>\n",
       "      <td>0.0</td>\n",
       "      <td>0.0</td>\n",
       "      <td>0.0</td>\n",
       "      <td>0.0</td>\n",
       "      <td>0.0</td>\n",
       "      <td>...</td>\n",
       "      <td>40.714550</td>\n",
       "      <td>-74.007120</td>\n",
       "      <td>-1.000000</td>\n",
       "      <td>0.000000</td>\n",
       "      <td>0.0</td>\n",
       "      <td>358002.000000</td>\n",
       "      <td>0.647609</td>\n",
       "      <td>4.179244e+06</td>\n",
       "      <td>0.000000e+00</td>\n",
       "      <td>0.000000e+00</td>\n",
       "    </tr>\n",
       "    <tr>\n",
       "      <th>75%</th>\n",
       "      <td>22050.0</td>\n",
       "      <td>0.0</td>\n",
       "      <td>288.946485</td>\n",
       "      <td>0.405250</td>\n",
       "      <td>0.0</td>\n",
       "      <td>0.0</td>\n",
       "      <td>0.0</td>\n",
       "      <td>0.0</td>\n",
       "      <td>0.0</td>\n",
       "      <td>0.0</td>\n",
       "      <td>...</td>\n",
       "      <td>47.255130</td>\n",
       "      <td>-0.127140</td>\n",
       "      <td>38225.500000</td>\n",
       "      <td>0.000000</td>\n",
       "      <td>0.0</td>\n",
       "      <td>569917.000000</td>\n",
       "      <td>298753.500000</td>\n",
       "      <td>6.447406e+06</td>\n",
       "      <td>1.100254e+06</td>\n",
       "      <td>1.998000e+03</td>\n",
       "    </tr>\n",
       "    <tr>\n",
       "      <th>max</th>\n",
       "      <td>22050.0</td>\n",
       "      <td>0.0</td>\n",
       "      <td>2647.405260</td>\n",
       "      <td>50.660000</td>\n",
       "      <td>0.0</td>\n",
       "      <td>0.0</td>\n",
       "      <td>0.0</td>\n",
       "      <td>0.0</td>\n",
       "      <td>0.0</td>\n",
       "      <td>0.0</td>\n",
       "      <td>...</td>\n",
       "      <td>65.010300</td>\n",
       "      <td>174.767140</td>\n",
       "      <td>241075.000000</td>\n",
       "      <td>212208.000000</td>\n",
       "      <td>0.0</td>\n",
       "      <td>823078.000000</td>\n",
       "      <td>819820.000000</td>\n",
       "      <td>9.084811e+06</td>\n",
       "      <td>9.055028e+06</td>\n",
       "      <td>8.947175e+06</td>\n",
       "    </tr>\n",
       "  </tbody>\n",
       "</table>\n",
       "<p>8 rows × 42 columns</p>\n",
       "</div>"
      ],
      "text/plain": [
       "       analysis_sample_rate  danceability     duration  end_of_fade_in  \\\n",
       "count                2000.0        2000.0  2000.000000     2000.000000   \n",
       "mean                22050.0           0.0   247.796431        0.788751   \n",
       "std                     0.0           0.0   121.979201        2.144227   \n",
       "min                 22050.0           0.0     7.104850        0.000000   \n",
       "25%                 22050.0           0.0   181.870565        0.000000   \n",
       "50%                 22050.0           0.0   226.363625        0.184000   \n",
       "75%                 22050.0           0.0   288.946485        0.405250   \n",
       "max                 22050.0           0.0  2647.405260       50.660000   \n",
       "\n",
       "       energy  idx_bars_confidence  idx_bars_start  idx_beats_confidence  \\\n",
       "count  2000.0               2000.0          2000.0                2000.0   \n",
       "mean      0.0                  0.0             0.0                   0.0   \n",
       "std       0.0                  0.0             0.0                   0.0   \n",
       "min       0.0                  0.0             0.0                   0.0   \n",
       "25%       0.0                  0.0             0.0                   0.0   \n",
       "50%       0.0                  0.0             0.0                   0.0   \n",
       "75%       0.0                  0.0             0.0                   0.0   \n",
       "max       0.0                  0.0             0.0                   0.0   \n",
       "\n",
       "       idx_beats_start  idx_sections_confidence  ...  artist_latitude  \\\n",
       "count           2000.0                   2000.0  ...       681.000000   \n",
       "mean               0.0                      0.0  ...        38.688448   \n",
       "std                0.0                      0.0  ...        15.928785   \n",
       "min                0.0                      0.0  ...       -43.587710   \n",
       "25%                0.0                      0.0  ...        34.053490   \n",
       "50%                0.0                      0.0  ...        40.714550   \n",
       "75%                0.0                      0.0  ...        47.255130   \n",
       "max                0.0                      0.0  ...        65.010300   \n",
       "\n",
       "       artist_longitude  artist_playmeid  idx_artist_terms  \\\n",
       "count        247.000000      1351.000000       1401.000000   \n",
       "mean         -46.831220     26472.911917       1086.655960   \n",
       "std           68.051943     47815.161731      11528.775696   \n",
       "min         -155.434140        -1.000000         -1.000000   \n",
       "25%          -92.283570        -1.000000          0.000000   \n",
       "50%          -74.007120        -1.000000          0.000000   \n",
       "75%           -0.127140     38225.500000          0.000000   \n",
       "max          174.767140    241075.000000     212208.000000   \n",
       "\n",
       "       idx_similar_artists  release_7digitalid  song_hotttnesss  \\\n",
       "count               1950.0         1401.000000      1330.000000   \n",
       "mean                   0.0       373010.990007    166634.578163   \n",
       "std                    0.0       238076.315480    244997.037453   \n",
       "min                    0.0            0.000000         0.000000   \n",
       "25%                    0.0       163604.000000         0.345802   \n",
       "50%                    0.0       358002.000000         0.647609   \n",
       "75%                    0.0       569917.000000    298753.500000   \n",
       "max                    0.0       823078.000000    819820.000000   \n",
       "\n",
       "       track_7digitalid  idx_artist_mbtags          year  \n",
       "count      1.351000e+03       1.950000e+03  2.000000e+03  \n",
       "mean       4.289103e+06       1.265419e+06  8.176665e+04  \n",
       "std        2.577445e+06       2.410913e+06  6.580888e+05  \n",
       "min        4.177000e+03       0.000000e+00  0.000000e+00  \n",
       "25%        2.078440e+06       0.000000e+00  0.000000e+00  \n",
       "50%        4.179244e+06       0.000000e+00  0.000000e+00  \n",
       "75%        6.447406e+06       1.100254e+06  1.998000e+03  \n",
       "max        9.084811e+06       9.055028e+06  8.947175e+06  \n",
       "\n",
       "[8 rows x 42 columns]"
      ]
     },
     "execution_count": 13,
     "metadata": {},
     "output_type": "execute_result"
    }
   ],
   "source": [
    "df.describe()"
   ]
  },
  {
   "cell_type": "code",
   "execution_count": 14,
   "metadata": {
    "scrolled": true
   },
   "outputs": [
    {
     "data": {
      "text/plain": [
       "analysis_sample_rate                 0\n",
       "audio_md5                            0\n",
       "danceability                         0\n",
       "duration                             0\n",
       "end_of_fade_in                       0\n",
       "energy                               0\n",
       "idx_bars_confidence                  0\n",
       "idx_bars_start                       0\n",
       "idx_beats_confidence                 0\n",
       "idx_beats_start                      0\n",
       "idx_sections_confidence              0\n",
       "idx_sections_start                   0\n",
       "idx_segments_confidence              0\n",
       "idx_segments_loudness_max            0\n",
       "idx_segments_loudness_max_time       0\n",
       "idx_segments_loudness_start          0\n",
       "idx_segments_pitches                 0\n",
       "idx_segments_start                   0\n",
       "idx_segments_timbre                  0\n",
       "idx_tatums_confidence                0\n",
       "idx_tatums_start                     0\n",
       "key                                  0\n",
       "key_confidence                       0\n",
       "loudness                             0\n",
       "mode                                 0\n",
       "mode_confidence                      0\n",
       "start_of_fade_out                    0\n",
       "tempo                                0\n",
       "time_signature                       0\n",
       "time_signature_confidence            0\n",
       "track_id                             0\n",
       "analyzer_version                     0\n",
       "artist_7digitalid                    0\n",
       "artist_familiarity                   1\n",
       "artist_hotttnesss                    0\n",
       "artist_id                            0\n",
       "artist_latitude                   1319\n",
       "artist_location                      0\n",
       "artist_longitude                  1753\n",
       "artist_mbid                          0\n",
       "artist_name                          0\n",
       "artist_playmeid                    649\n",
       "genre                                0\n",
       "idx_artist_terms                   599\n",
       "idx_similar_artists                 50\n",
       "release                              0\n",
       "release_7digitalid                 599\n",
       "song_hotttnesss                    670\n",
       "song_id                              0\n",
       "title                                0\n",
       "track_7digitalid                   649\n",
       "idx_artist_mbtags                   50\n",
       "year                                 0\n",
       "dtype: int64"
      ]
     },
     "execution_count": 14,
     "metadata": {},
     "output_type": "execute_result"
    }
   ],
   "source": [
    "df.isna().sum()"
   ]
  },
  {
   "cell_type": "code",
   "execution_count": 15,
   "metadata": {
    "scrolled": true
   },
   "outputs": [
    {
     "data": {
      "text/plain": [
       "analysis_sample_rate                 0\n",
       "audio_md5                            0\n",
       "danceability                      2000\n",
       "duration                             0\n",
       "end_of_fade_in                     636\n",
       "energy                            2000\n",
       "idx_bars_confidence               2000\n",
       "idx_bars_start                    2000\n",
       "idx_beats_confidence              2000\n",
       "idx_beats_start                   2000\n",
       "idx_sections_confidence           2000\n",
       "idx_sections_start                2000\n",
       "idx_segments_confidence           2000\n",
       "idx_segments_loudness_max         2000\n",
       "idx_segments_loudness_max_time    2000\n",
       "idx_segments_loudness_start       2000\n",
       "idx_segments_pitches              2000\n",
       "idx_segments_start                2000\n",
       "idx_segments_timbre               2000\n",
       "idx_tatums_confidence             2000\n",
       "idx_tatums_start                  2000\n",
       "key                                261\n",
       "key_confidence                      93\n",
       "loudness                             0\n",
       "mode                               662\n",
       "mode_confidence                     49\n",
       "start_of_fade_out                    0\n",
       "tempo                               10\n",
       "time_signature                       0\n",
       "time_signature_confidence          411\n",
       "track_id                             0\n",
       "analyzer_version                     0\n",
       "artist_7digitalid                    0\n",
       "artist_familiarity                   8\n",
       "artist_hotttnesss                   93\n",
       "artist_id                            0\n",
       "artist_latitude                      0\n",
       "artist_location                      0\n",
       "artist_longitude                     0\n",
       "artist_mbid                          0\n",
       "artist_name                          0\n",
       "artist_playmeid                      0\n",
       "genre                                0\n",
       "idx_artist_terms                  1351\n",
       "idx_similar_artists               1950\n",
       "release                              0\n",
       "release_7digitalid                  50\n",
       "song_hotttnesss                    151\n",
       "song_id                              0\n",
       "title                                0\n",
       "track_7digitalid                     0\n",
       "idx_artist_mbtags                 1351\n",
       "year                              1324\n",
       "dtype: int64"
      ]
     },
     "execution_count": 15,
     "metadata": {},
     "output_type": "execute_result"
    }
   ],
   "source": [
    "(df==0).sum()"
   ]
  },
  {
   "cell_type": "code",
   "execution_count": 16,
   "metadata": {},
   "outputs": [
    {
     "data": {
      "text/plain": [
       "(array([  1.,   1.,  14.,  16.,  46.,  99., 240., 541., 827., 215.]),\n",
       " array([-42.857 , -38.6438, -34.4306, -30.2174, -26.0042, -21.791 ,\n",
       "        -17.5778, -13.3646,  -9.1514,  -4.9382,  -0.725 ]),\n",
       " <a list of 10 Patch objects>)"
      ]
     },
     "execution_count": 16,
     "metadata": {},
     "output_type": "execute_result"
    },
    {
     "data": {
      "image/png": "[encoded data removed]",
      "text/plain": [
       "<Figure size 432x288 with 1 Axes>"
      ]
     },
     "metadata": {
      "needs_background": "light"
     },
     "output_type": "display_data"
    }
   ],
   "source": [
    "plt.hist(df['loudness'])"
   ]
  },
  {
   "cell_type": "code",
   "execution_count": 17,
   "metadata": {},
   "outputs": [
    {
     "data": {
      "text/plain": [
       "(array([ 11.,  12.,  84., 463., 538., 502., 243., 114.,  22.,  11.]),\n",
       " array([  0.    ,  25.3931,  50.7862,  76.1793, 101.5724, 126.9655,\n",
       "        152.3586, 177.7517, 203.1448, 228.5379, 253.931 ]),\n",
       " <a list of 10 Patch objects>)"
      ]
     },
     "execution_count": 17,
     "metadata": {},
     "output_type": "execute_result"
    },
    {
     "data": {
      "image/png": "[encoded data removed]",
      "text/plain": [
       "<Figure size 432x288 with 1 Axes>"
      ]
     },
     "metadata": {
      "needs_background": "light"
     },
     "output_type": "display_data"
    }
   ],
   "source": [
    "plt.hist(df['tempo'])"
   ]
  },
  {
   "cell_type": "code",
   "execution_count": 18,
   "metadata": {},
   "outputs": [
    {
     "data": {
      "text/plain": [
       "(array([1963.,    6.,    8.,    4.,    3.,    3.,    3.,    4.,    4.,\n",
       "           2.]),\n",
       " array([      0. ,  894717.5, 1789435. , 2684152.5, 3578870. , 4473587.5,\n",
       "        5368305. , 6263022.5, 7157740. , 8052457.5, 8947175. ]),\n",
       " <a list of 10 Patch objects>)"
      ]
     },
     "execution_count": 18,
     "metadata": {},
     "output_type": "execute_result"
    },
    {
     "data": {
      "image/png": "[encoded data removed]",
      "text/plain": [
       "<Figure size 432x288 with 1 Axes>"
      ]
     },
     "metadata": {
      "needs_background": "light"
     },
     "output_type": "display_data"
    }
   ],
   "source": [
    "plt.hist(df['year'])"
   ]
  },
  {
   "cell_type": "code",
   "execution_count": 19,
   "metadata": {},
   "outputs": [
    {
     "data": {
      "text/plain": [
       "{'bodies': [<matplotlib.collections.PolyCollection at 0x7f28f9caa6d0>],\n",
       " 'cmaxes': <matplotlib.collections.LineCollection at 0x7f28f9ed0d90>,\n",
       " 'cmins': <matplotlib.collections.LineCollection at 0x7f28f9caa890>,\n",
       " 'cbars': <matplotlib.collections.LineCollection at 0x7f28f9caaf10>}"
      ]
     },
     "execution_count": 19,
     "metadata": {},
     "output_type": "execute_result"
    },
    {
     "data": {
      "image/png": "[encoded data removed]",
      "text/plain": [
       "<Figure size 432x288 with 1 Axes>"
      ]
     },
     "metadata": {
      "needs_background": "light"
     },
     "output_type": "display_data"
    }
   ],
   "source": [
    "plt.violinplot(df[~df.year.isna()]['year'])"
   ]
  },
  {
   "cell_type": "code",
   "execution_count": 20,
   "metadata": {},
   "outputs": [
    {
     "data": {
      "text/plain": [
       "(array([ 30.,   8.,  19.,  99., 318., 563., 553., 269., 125.,  15.]),\n",
       " array([0.        , 0.09473275, 0.1894655 , 0.28419825, 0.378931  ,\n",
       "        0.47366375, 0.5683965 , 0.66312925, 0.75786201, 0.85259476,\n",
       "        0.94732751]),\n",
       " <a list of 10 Patch objects>)"
      ]
     },
     "execution_count": 20,
     "metadata": {},
     "output_type": "execute_result"
    },
    {
     "data": {
      "image/png": "[encoded data removed]",
      "text/plain": [
       "<Figure size 432x288 with 1 Axes>"
      ]
     },
     "metadata": {
      "needs_background": "light"
     },
     "output_type": "display_data"
    }
   ],
   "source": [
    "plt.hist(df['artist_familiarity'])"
   ]
  },
  {
   "cell_type": "markdown",
   "metadata": {},
   "source": [
    "# Preprocessing"
   ]
  },
  {
   "cell_type": "markdown",
   "metadata": {},
   "source": [
    "## Create Clean Frame\n",
    "* Filter 0 year and years that are > 2022. ==> Note that this SIGNIFICANTLY reduces # of records we can work with so may choose not to do it.\n",
    "* Select a subset of columns"
   ]
  },
  {
   "cell_type": "code",
   "execution_count": 21,
   "metadata": {},
   "outputs": [],
   "source": [
    "# filtered_df = df[(df['year']>0)&(df['year']<=2022)][['loudness','tempo','artist_hotttness'\n",
    "#                                                      ,'artist_familiarity','genre','song_hotttness'\n",
    "#                                                      ,'track_id','song_id','artist_id'\n",
    "#                                                      ,'artist_name','title']].copy()\n",
    "filtered_df = df[['loudness','tempo','artist_hotttnesss'\n",
    "                                                     ,'artist_familiarity','genre','song_hotttnesss'\n",
    "                                                     ,'track_id','song_id','artist_id'\n",
    "                                                     ,'artist_name','title']].copy()"
   ]
  },
  {
   "cell_type": "markdown",
   "metadata": {},
   "source": [
    "## Pipeline for Feature Selection"
   ]
  },
  {
   "cell_type": "code",
   "execution_count": 22,
   "metadata": {},
   "outputs": [],
   "source": [
    "scaler_step = Pipeline([\n",
    "    (\"imputer\", SimpleImputer(strategy='constant', fill_value=0)),\n",
    "    (\"scaler\", StandardScaler())\n",
    "])\n",
    "\n",
    "encoder_step = Pipeline([\n",
    "    (\"encoder\", OneHotEncoder())\n",
    "])"
   ]
  },
  {
   "cell_type": "code",
   "execution_count": 23,
   "metadata": {},
   "outputs": [],
   "source": [
    "transformers = ColumnTransformer([\n",
    "    (\"scaler_process\", scaler_step, ['loudness', 'tempo', 'artist_hotttnesss', 'song_hotttnesss', 'artist_familiarity']),\n",
    "    (\"encoder_process\", encoder_step, ['genre'])\n",
    "])"
   ]
  },
  {
   "cell_type": "code",
   "execution_count": 24,
   "metadata": {},
   "outputs": [],
   "source": [
    "feature_pipeline = Pipeline([\n",
    "    (\"processor\", transformers),\n",
    "    (\"kmeans_modeller\", KMeans(random_state=1)),\n",
    "    (\"dbscan_modeller\", DBSCAN(min_samples=9))\n",
    "])"
   ]
  },
  {
   "cell_type": "markdown",
   "metadata": {},
   "source": [
    "### Split the data"
   ]
  },
  {
   "cell_type": "code",
   "execution_count": 25,
   "metadata": {},
   "outputs": [],
   "source": [
    "train_indices = np.random.choice(df.index, size=int(df.shape[0]*0.8), replace=False)"
   ]
  },
  {
   "cell_type": "code",
   "execution_count": 26,
   "metadata": {},
   "outputs": [],
   "source": [
    "test_df = df[~df.index.isin(train_indices)]\n",
    "train_df = df[df.index.isin(train_indices)]"
   ]
  },
  {
   "cell_type": "markdown",
   "metadata": {},
   "source": [
    "### Feed the train set to feature pipeline"
   ]
  },
  {
   "cell_type": "code",
   "execution_count": 27,
   "metadata": {
    "scrolled": true
   },
   "outputs": [
    {
     "data": {
      "text/plain": [
       "Pipeline(memory=None,\n",
       "         steps=[('processor',\n",
       "                 ColumnTransformer(n_jobs=None, remainder='drop',\n",
       "                                   sparse_threshold=0.3,\n",
       "                                   transformer_weights=None,\n",
       "                                   transformers=[('scaler_process',\n",
       "                                                  Pipeline(memory=None,\n",
       "                                                           steps=[('imputer',\n",
       "                                                                   SimpleImputer(add_indicator=False,\n",
       "                                                                                 copy=True,\n",
       "                                                                                 fill_value=0,\n",
       "                                                                                 missing_values=nan,\n",
       "                                                                                 strategy='constant',\n",
       "                                                                                 verbose=0)),\n",
       "                                                                  ('scaler',\n",
       "                                                                   StandardScaler(copy=True,\n",
       "                                                                                  wi...\n",
       "                                   verbose=False)),\n",
       "                ('kmeans_modeller',\n",
       "                 KMeans(algorithm='auto', copy_x=True, init='k-means++',\n",
       "                        max_iter=300, n_clusters=8, n_init=10, n_jobs=None,\n",
       "                        precompute_distances='auto', random_state=1, tol=0.0001,\n",
       "                        verbose=0)),\n",
       "                ('dbscan_modeller',\n",
       "                 DBSCAN(algorithm='auto', eps=0.5, leaf_size=30,\n",
       "                        metric='euclidean', metric_params=None, min_samples=9,\n",
       "                        n_jobs=None, p=None))],\n",
       "         verbose=False)"
      ]
     },
     "execution_count": 27,
     "metadata": {},
     "output_type": "execute_result"
    }
   ],
   "source": [
    "feature_pipeline.fit(train_df)"
   ]
  },
  {
   "cell_type": "markdown",
   "metadata": {},
   "source": [
    "### Extract model"
   ]
  },
  {
   "cell_type": "code",
   "execution_count": 28,
   "metadata": {},
   "outputs": [],
   "source": [
    "feat_selection_kmeans = feature_pipeline['kmeans_modeller']\n",
    "feat_selection_dbscan = feature_pipeline['dbscan_modeller']"
   ]
  },
  {
   "cell_type": "markdown",
   "metadata": {},
   "source": [
    "### Extract trasnformed dataframe"
   ]
  },
  {
   "cell_type": "code",
   "execution_count": 29,
   "metadata": {},
   "outputs": [],
   "source": [
    "transformed_train_df = feature_pipeline['processor'].fit_transform(train_df)"
   ]
  },
  {
   "cell_type": "markdown",
   "metadata": {},
   "source": [
    "### Scoring the clustering methods"
   ]
  },
  {
   "cell_type": "markdown",
   "metadata": {},
   "source": [
    "#### Kmeans"
   ]
  },
  {
   "cell_type": "code",
   "execution_count": 30,
   "metadata": {},
   "outputs": [
    {
     "data": {
      "text/plain": [
       "0.16412164959534029"
      ]
     },
     "execution_count": 30,
     "metadata": {},
     "output_type": "execute_result"
    }
   ],
   "source": [
    "silhouette_score(transformed_train_df, feat_selection_kmeans.labels_, metric='euclidean',sample_size=int(train_df.shape[0]*0.3))"
   ]
  },
  {
   "cell_type": "code",
   "execution_count": 31,
   "metadata": {},
   "outputs": [
    {
     "data": {
      "text/plain": [
       "333.8714379349003"
      ]
     },
     "execution_count": 31,
     "metadata": {},
     "output_type": "execute_result"
    }
   ],
   "source": [
    "calinski_harabasz_score(transformed_train_df.toarray(), feat_selection_kmeans.labels_)"
   ]
  },
  {
   "cell_type": "code",
   "execution_count": 45,
   "metadata": {},
   "outputs": [],
   "source": [
    "kmeans_classes = np.unique(feat_selection_kmeans.labels_)"
   ]
  },
  {
   "cell_type": "markdown",
   "metadata": {},
   "source": [
    "#### DBSCAN"
   ]
  },
  {
   "cell_type": "code",
   "execution_count": 32,
   "metadata": {},
   "outputs": [
    {
     "data": {
      "text/plain": [
       "-0.18077837038159447"
      ]
     },
     "execution_count": 32,
     "metadata": {},
     "output_type": "execute_result"
    }
   ],
   "source": [
    "silhouette_score(transformed_train_df, feat_selection_dbscan.labels_, metric='euclidean',sample_size=int(train_df.shape[0]*0.3))"
   ]
  },
  {
   "cell_type": "code",
   "execution_count": 33,
   "metadata": {},
   "outputs": [
    {
     "data": {
      "text/plain": [
       "35.979745862468384"
      ]
     },
     "execution_count": 33,
     "metadata": {},
     "output_type": "execute_result"
    }
   ],
   "source": [
    "calinski_harabasz_score(transformed_train_df.toarray(), feat_selection_dbscan.labels_)"
   ]
  },
  {
   "cell_type": "code",
   "execution_count": 46,
   "metadata": {},
   "outputs": [],
   "source": [
    "dbscan_classes =  np.unique(feat_selection_dbscan.labels_)"
   ]
  },
  {
   "cell_type": "markdown",
   "metadata": {},
   "source": [
    "### SpectralClustering"
   ]
  },
  {
   "cell_type": "code",
   "execution_count": 40,
   "metadata": {},
   "outputs": [],
   "source": [
    "feat_selection_spectral = SpectralClustering(n_clusters=10,random_state=1)\n",
    "spectral_result = feat_selection_spectral.fit_predict(transformed_train_df)"
   ]
  },
  {
   "cell_type": "code",
   "execution_count": 41,
   "metadata": {},
   "outputs": [
    {
     "data": {
      "text/plain": [
       "0.20146595670359574"
      ]
     },
     "execution_count": 41,
     "metadata": {},
     "output_type": "execute_result"
    }
   ],
   "source": [
    "silhouette_score(transformed_train_df, spectral_result, metric='euclidean',sample_size=int(train_df.shape[0]*0.3))"
   ]
  },
  {
   "cell_type": "code",
   "execution_count": 42,
   "metadata": {},
   "outputs": [
    {
     "data": {
      "text/plain": [
       "105.38874626618382"
      ]
     },
     "execution_count": 42,
     "metadata": {},
     "output_type": "execute_result"
    }
   ],
   "source": [
    "calinski_harabasz_score(transformed_train_df.toarray(), spectral_result)"
   ]
  },
  {
   "cell_type": "code",
   "execution_count": 47,
   "metadata": {},
   "outputs": [],
   "source": [
    "spectral_classes = np.unique(spectral_result)"
   ]
  },
  {
   "cell_type": "markdown",
   "metadata": {},
   "source": [
    "### Visualize Clusters\n",
    "* On train dataframe"
   ]
  },
  {
   "cell_type": "code",
   "execution_count": 52,
   "metadata": {},
   "outputs": [],
   "source": [
    "pca_transformer = SparsePCA(n_components=transformed_train_df.size, random_state = 1, alpha=0.8)"
   ]
  },
  {
   "cell_type": "code",
   "execution_count": 53,
   "metadata": {
    "scrolled": true
   },
   "outputs": [
    {
     "ename": "TypeError",
     "evalue": "A sparse matrix was passed, but dense data is required. Use X.toarray() to convert to a dense numpy array.",
     "output_type": "error",
     "traceback": [
      "\u001b[0;31m---------------------------------------------------------------------------\u001b[0m",
      "\u001b[0;31mTypeError\u001b[0m                                 Traceback (most recent call last)",
      "\u001b[0;32m<ipython-input-53-5db792f3223c>\u001b[0m in \u001b[0;36m<module>\u001b[0;34m\u001b[0m\n\u001b[0;32m----> 1\u001b[0;31m \u001b[0mpca_df_train\u001b[0m \u001b[0;34m=\u001b[0m \u001b[0mpca_transformer\u001b[0m\u001b[0;34m.\u001b[0m\u001b[0mfit_transform\u001b[0m\u001b[0;34m(\u001b[0m\u001b[0mtransformed_train_df\u001b[0m\u001b[0;34m)\u001b[0m\u001b[0;34m\u001b[0m\u001b[0;34m\u001b[0m\u001b[0m\n\u001b[0m",
      "\u001b[0;32m/opt/conda/lib/python3.7/site-packages/sklearn/base.py\u001b[0m in \u001b[0;36mfit_transform\u001b[0;34m(self, X, y, **fit_params)\u001b[0m\n\u001b[1;32m    569\u001b[0m         \u001b[0;32mif\u001b[0m \u001b[0my\u001b[0m \u001b[0;32mis\u001b[0m \u001b[0;32mNone\u001b[0m\u001b[0;34m:\u001b[0m\u001b[0;34m\u001b[0m\u001b[0;34m\u001b[0m\u001b[0m\n\u001b[1;32m    570\u001b[0m             \u001b[0;31m# fit method of arity 1 (unsupervised transformation)\u001b[0m\u001b[0;34m\u001b[0m\u001b[0;34m\u001b[0m\u001b[0;34m\u001b[0m\u001b[0m\n\u001b[0;32m--> 571\u001b[0;31m             \u001b[0;32mreturn\u001b[0m \u001b[0mself\u001b[0m\u001b[0;34m.\u001b[0m\u001b[0mfit\u001b[0m\u001b[0;34m(\u001b[0m\u001b[0mX\u001b[0m\u001b[0;34m,\u001b[0m \u001b[0;34m**\u001b[0m\u001b[0mfit_params\u001b[0m\u001b[0;34m)\u001b[0m\u001b[0;34m.\u001b[0m\u001b[0mtransform\u001b[0m\u001b[0;34m(\u001b[0m\u001b[0mX\u001b[0m\u001b[0;34m)\u001b[0m\u001b[0;34m\u001b[0m\u001b[0;34m\u001b[0m\u001b[0m\n\u001b[0m\u001b[1;32m    572\u001b[0m         \u001b[0;32melse\u001b[0m\u001b[0;34m:\u001b[0m\u001b[0;34m\u001b[0m\u001b[0;34m\u001b[0m\u001b[0m\n\u001b[1;32m    573\u001b[0m             \u001b[0;31m# fit method of arity 2 (supervised transformation)\u001b[0m\u001b[0;34m\u001b[0m\u001b[0;34m\u001b[0m\u001b[0;34m\u001b[0m\u001b[0m\n",
      "\u001b[0;32m/opt/conda/lib/python3.7/site-packages/sklearn/decomposition/_sparse_pca.py\u001b[0m in \u001b[0;36mfit\u001b[0;34m(self, X, y)\u001b[0m\n\u001b[1;32m    167\u001b[0m         \"\"\"\n\u001b[1;32m    168\u001b[0m         \u001b[0mrandom_state\u001b[0m \u001b[0;34m=\u001b[0m \u001b[0mcheck_random_state\u001b[0m\u001b[0;34m(\u001b[0m\u001b[0mself\u001b[0m\u001b[0;34m.\u001b[0m\u001b[0mrandom_state\u001b[0m\u001b[0;34m)\u001b[0m\u001b[0;34m\u001b[0m\u001b[0;34m\u001b[0m\u001b[0m\n\u001b[0;32m--> 169\u001b[0;31m         \u001b[0mX\u001b[0m \u001b[0;34m=\u001b[0m \u001b[0mcheck_array\u001b[0m\u001b[0;34m(\u001b[0m\u001b[0mX\u001b[0m\u001b[0;34m)\u001b[0m\u001b[0;34m\u001b[0m\u001b[0;34m\u001b[0m\u001b[0m\n\u001b[0m\u001b[1;32m    170\u001b[0m \u001b[0;34m\u001b[0m\u001b[0m\n\u001b[1;32m    171\u001b[0m         _check_normalize_components(\n",
      "\u001b[0;32m/opt/conda/lib/python3.7/site-packages/sklearn/utils/validation.py\u001b[0m in \u001b[0;36mcheck_array\u001b[0;34m(array, accept_sparse, accept_large_sparse, dtype, order, copy, force_all_finite, ensure_2d, allow_nd, ensure_min_samples, ensure_min_features, warn_on_dtype, estimator)\u001b[0m\n\u001b[1;32m    509\u001b[0m                                       \u001b[0mdtype\u001b[0m\u001b[0;34m=\u001b[0m\u001b[0mdtype\u001b[0m\u001b[0;34m,\u001b[0m \u001b[0mcopy\u001b[0m\u001b[0;34m=\u001b[0m\u001b[0mcopy\u001b[0m\u001b[0;34m,\u001b[0m\u001b[0;34m\u001b[0m\u001b[0;34m\u001b[0m\u001b[0m\n\u001b[1;32m    510\u001b[0m                                       \u001b[0mforce_all_finite\u001b[0m\u001b[0;34m=\u001b[0m\u001b[0mforce_all_finite\u001b[0m\u001b[0;34m,\u001b[0m\u001b[0;34m\u001b[0m\u001b[0;34m\u001b[0m\u001b[0m\n\u001b[0;32m--> 511\u001b[0;31m                                       accept_large_sparse=accept_large_sparse)\n\u001b[0m\u001b[1;32m    512\u001b[0m     \u001b[0;32melse\u001b[0m\u001b[0;34m:\u001b[0m\u001b[0;34m\u001b[0m\u001b[0;34m\u001b[0m\u001b[0m\n\u001b[1;32m    513\u001b[0m         \u001b[0;31m# If np.array(..) gives ComplexWarning, then we convert the warning\u001b[0m\u001b[0;34m\u001b[0m\u001b[0;34m\u001b[0m\u001b[0;34m\u001b[0m\u001b[0m\n",
      "\u001b[0;32m/opt/conda/lib/python3.7/site-packages/sklearn/utils/validation.py\u001b[0m in \u001b[0;36m_ensure_sparse_format\u001b[0;34m(spmatrix, accept_sparse, dtype, copy, force_all_finite, accept_large_sparse)\u001b[0m\n\u001b[1;32m    304\u001b[0m \u001b[0;34m\u001b[0m\u001b[0m\n\u001b[1;32m    305\u001b[0m     \u001b[0;32mif\u001b[0m \u001b[0maccept_sparse\u001b[0m \u001b[0;32mis\u001b[0m \u001b[0;32mFalse\u001b[0m\u001b[0;34m:\u001b[0m\u001b[0;34m\u001b[0m\u001b[0;34m\u001b[0m\u001b[0m\n\u001b[0;32m--> 306\u001b[0;31m         raise TypeError('A sparse matrix was passed, but dense '\n\u001b[0m\u001b[1;32m    307\u001b[0m                         \u001b[0;34m'data is required. Use X.toarray() to '\u001b[0m\u001b[0;34m\u001b[0m\u001b[0;34m\u001b[0m\u001b[0m\n\u001b[1;32m    308\u001b[0m                         'convert to a dense numpy array.')\n",
      "\u001b[0;31mTypeError\u001b[0m: A sparse matrix was passed, but dense data is required. Use X.toarray() to convert to a dense numpy array."
     ]
    }
   ],
   "source": [
    "pca_df_train = pca_transformer.fit_transform(transformed_train_df)"
   ]
  },
  {
   "cell_type": "code",
   "execution_count": null,
   "metadata": {},
   "outputs": [],
   "source": []
  }
 ],
 "metadata": {
  "instance_type": "ml.t3.medium",
  "kernelspec": {
   "display_name": "Python 3 (Data Science)",
   "language": "python",
   "name": "python3__SAGEMAKER_INTERNAL__arn:aws:sagemaker:us-east-1:081325390199:image/datascience-1.0"
  },
  "language_info": {
   "codemirror_mode": {
    "name": "ipython",
    "version": 3
   },
   "file_extension": ".py",
   "mimetype": "text/x-python",
   "name": "python",
   "nbconvert_exporter": "python",
   "pygments_lexer": "ipython3",
   "version": "3.7.10"
  }
 },
 "nbformat": 4,
 "nbformat_minor": 4
}
