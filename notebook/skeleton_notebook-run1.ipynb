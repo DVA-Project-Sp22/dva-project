{
 "cells": [
  {
   "cell_type": "markdown",
   "metadata": {},
   "source": [
    "# Library"
   ]
  },
  {
   "cell_type": "code",
   "execution_count": 1,
   "metadata": {},
   "outputs": [],
   "source": [
    "import pandas as pd\n",
    "import sys"
   ]
  },
  {
   "cell_type": "code",
   "execution_count": 2,
   "metadata": {},
   "outputs": [
    {
     "name": "stdout",
     "output_type": "stream",
     "text": [
      "Can you see this?\n"
     ]
    }
   ],
   "source": [
    "print(\"Can you see this?\")"
   ]
  },
  {
   "cell_type": "code",
   "execution_count": 3,
   "metadata": {},
   "outputs": [
    {
     "name": "stdout",
     "output_type": "stream",
     "text": [
      "/opt/conda/lib/python3.7/site-packages/secretstorage/dhcrypto.py:16: CryptographyDeprecationWarning: int_from_bytes is deprecated, use int.from_bytes instead\n",
      "  from cryptography.utils import int_from_bytes\n",
      "/opt/conda/lib/python3.7/site-packages/secretstorage/util.py:25: CryptographyDeprecationWarning: int_from_bytes is deprecated, use int.from_bytes instead\n",
      "  from cryptography.utils import int_from_bytes\n",
      "Collecting PyAthena\n",
      "  Using cached PyAthena-2.5.2-py3-none-any.whl (40 kB)\n",
      "Requirement already satisfied: tenacity>=4.1.0 in /opt/conda/lib/python3.7/site-packages (from PyAthena) (8.0.1)\n",
      "Requirement already satisfied: botocore>=1.5.52 in /opt/conda/lib/python3.7/site-packages (from PyAthena) (1.23.23)\n",
      "Requirement already satisfied: boto3>=1.4.4 in /opt/conda/lib/python3.7/site-packages (from PyAthena) (1.20.23)\n",
      "Requirement already satisfied: jmespath<1.0.0,>=0.7.1 in /opt/conda/lib/python3.7/site-packages (from boto3>=1.4.4->PyAthena) (0.10.0)\n",
      "Requirement already satisfied: s3transfer<0.6.0,>=0.5.0 in /opt/conda/lib/python3.7/site-packages (from boto3>=1.4.4->PyAthena) (0.5.0)\n",
      "Requirement already satisfied: python-dateutil<3.0.0,>=2.1 in /opt/conda/lib/python3.7/site-packages (from botocore>=1.5.52->PyAthena) (2.8.1)\n",
      "Requirement already satisfied: urllib3<1.27,>=1.25.4 in /opt/conda/lib/python3.7/site-packages (from botocore>=1.5.52->PyAthena) (1.26.7)\n",
      "Requirement already satisfied: six>=1.5 in /opt/conda/lib/python3.7/site-packages (from python-dateutil<3.0.0,>=2.1->botocore>=1.5.52->PyAthena) (1.14.0)\n",
      "Installing collected packages: PyAthena\n",
      "Successfully installed PyAthena-2.5.2\n",
      "\u001b[33mWARNING: Running pip as the 'root' user can result in broken permissions and conflicting behaviour with the system package manager. It is recommended to use a virtual environment instead: https://pip.pypa.io/warnings/venv\u001b[0m\n",
      "\u001b[33mWARNING: You are using pip version 21.3.1; however, version 22.0.4 is available.\n",
      "You should consider upgrading via the '/opt/conda/bin/python -m pip install --upgrade pip' command.\u001b[0m\n"
     ]
    }
   ],
   "source": [
    "!{sys.executable} -m pip install PyAthena"
   ]
  },
  {
   "cell_type": "code",
   "execution_count": 4,
   "metadata": {},
   "outputs": [],
   "source": [
    "from pyathena import connect"
   ]
  },
  {
   "cell_type": "code",
   "execution_count": 5,
   "metadata": {},
   "outputs": [],
   "source": [
    "import numpy as np\n",
    "import matplotlib.pyplot as plt"
   ]
  },
  {
   "cell_type": "code",
   "execution_count": 6,
   "metadata": {},
   "outputs": [],
   "source": [
    "from sklearn.preprocessing import StandardScaler, OneHotEncoder\n",
    "from sklearn.pipeline import Pipeline\n",
    "from sklearn.compose import ColumnTransformer\n",
    "from sklearn.cluster import KMeans,DBSCAN, SpectralClustering\n",
    "from sklearn.metrics import silhouette_score, calinski_harabasz_score\n",
    "from sklearn.impute import SimpleImputer\n",
    "from sklearn.decomposition import SparsePCA\n",
    "from scipy import sparse as sp\n",
    "import scipy"
   ]
  },
  {
   "cell_type": "code",
   "execution_count": 7,
   "metadata": {},
   "outputs": [],
   "source": [
    "np.random.seed(1)"
   ]
  },
  {
   "cell_type": "markdown",
   "metadata": {},
   "source": [
    "# Getting Data\n",
    "* Only getting 2000 records (remove the limit for full set)"
   ]
  },
  {
   "cell_type": "code",
   "execution_count": 8,
   "metadata": {},
   "outputs": [
    {
     "name": "stdout",
     "output_type": "stream",
     "text": [
      "Stored 'df' (DataFrame)\n"
     ]
    }
   ],
   "source": [
    "conn = connect(s3_staging_dir='s3://athena-results-c7fhgh8/',\n",
    "               region_name='us-east-1')\n",
    "\n",
    "df = pd.read_sql(\"select * from \\\"millionsongdataset-intermediate\\\".songdata;\", conn)\n",
    "%store df"
   ]
  },
  {
   "cell_type": "code",
   "execution_count": 9,
   "metadata": {},
   "outputs": [
    {
     "data": {
      "text/plain": [
       "(1000000, 53)"
      ]
     },
     "execution_count": 9,
     "metadata": {},
     "output_type": "execute_result"
    }
   ],
   "source": [
    "df.shape"
   ]
  },
  {
   "cell_type": "markdown",
   "metadata": {},
   "source": [
    "# EDA"
   ]
  },
  {
   "cell_type": "code",
   "execution_count": 10,
   "metadata": {
    "scrolled": true
   },
   "outputs": [
    {
     "data": {
      "text/plain": [
       "analysis_sample_rate                int64\n",
       "audio_md5                          object\n",
       "danceability                      float64\n",
       "duration                          float64\n",
       "end_of_fade_in                    float64\n",
       "energy                            float64\n",
       "idx_bars_confidence                 int64\n",
       "idx_bars_start                      int64\n",
       "idx_beats_confidence                int64\n",
       "idx_beats_start                     int64\n",
       "idx_sections_confidence             int64\n",
       "idx_sections_start                  int64\n",
       "idx_segments_confidence             int64\n",
       "idx_segments_loudness_max           int64\n",
       "idx_segments_loudness_max_time      int64\n",
       "idx_segments_loudness_start         int64\n",
       "idx_segments_pitches                int64\n",
       "idx_segments_start                  int64\n",
       "idx_segments_timbre                 int64\n",
       "idx_tatums_confidence               int64\n",
       "idx_tatums_start                    int64\n",
       "key                                 int64\n",
       "key_confidence                    float64\n",
       "loudness                          float64\n",
       "mode                                int64\n",
       "mode_confidence                   float64\n",
       "start_of_fade_out                 float64\n",
       "tempo                             float64\n",
       "time_signature                      int64\n",
       "time_signature_confidence         float64\n",
       "track_id                           object\n",
       "analyzer_version                   object\n",
       "artist_7digitalid                   int64\n",
       "artist_familiarity                float64\n",
       "artist_hotttnesss                 float64\n",
       "artist_id                          object\n",
       "artist_latitude                   float64\n",
       "artist_location                    object\n",
       "artist_longitude                  float64\n",
       "artist_mbid                        object\n",
       "artist_name                        object\n",
       "artist_playmeid                   float64\n",
       "genre                              object\n",
       "idx_artist_terms                  float64\n",
       "idx_similar_artists               float64\n",
       "release                            object\n",
       "release_7digitalid                float64\n",
       "song_hotttnesss                   float64\n",
       "song_id                            object\n",
       "title                              object\n",
       "track_7digitalid                  float64\n",
       "idx_artist_mbtags                 float64\n",
       "year                              float64\n",
       "dtype: object"
      ]
     },
     "execution_count": 10,
     "metadata": {},
     "output_type": "execute_result"
    }
   ],
   "source": [
    "df.dtypes"
   ]
  },
  {
   "cell_type": "code",
   "execution_count": 11,
   "metadata": {},
   "outputs": [
    {
     "data": {
      "text/html": [
       "<div>\n",
       "<style scoped>\n",
       "    .dataframe tbody tr th:only-of-type {\n",
       "        vertical-align: middle;\n",
       "    }\n",
       "\n",
       "    .dataframe tbody tr th {\n",
       "        vertical-align: top;\n",
       "    }\n",
       "\n",
       "    .dataframe thead th {\n",
       "        text-align: right;\n",
       "    }\n",
       "</style>\n",
       "<table border=\"1\" class=\"dataframe\">\n",
       "  <thead>\n",
       "    <tr style=\"text-align: right;\">\n",
       "      <th></th>\n",
       "      <th>analysis_sample_rate</th>\n",
       "      <th>danceability</th>\n",
       "      <th>duration</th>\n",
       "      <th>end_of_fade_in</th>\n",
       "      <th>energy</th>\n",
       "      <th>idx_bars_confidence</th>\n",
       "      <th>idx_bars_start</th>\n",
       "      <th>idx_beats_confidence</th>\n",
       "      <th>idx_beats_start</th>\n",
       "      <th>idx_sections_confidence</th>\n",
       "      <th>...</th>\n",
       "      <th>artist_latitude</th>\n",
       "      <th>artist_longitude</th>\n",
       "      <th>artist_playmeid</th>\n",
       "      <th>idx_artist_terms</th>\n",
       "      <th>idx_similar_artists</th>\n",
       "      <th>release_7digitalid</th>\n",
       "      <th>song_hotttnesss</th>\n",
       "      <th>track_7digitalid</th>\n",
       "      <th>idx_artist_mbtags</th>\n",
       "      <th>year</th>\n",
       "    </tr>\n",
       "  </thead>\n",
       "  <tbody>\n",
       "    <tr>\n",
       "      <th>count</th>\n",
       "      <td>1000000.0</td>\n",
       "      <td>1000000.0</td>\n",
       "      <td>1000000.000000</td>\n",
       "      <td>1000000.000000</td>\n",
       "      <td>1000000.0</td>\n",
       "      <td>1000000.0</td>\n",
       "      <td>1000000.0</td>\n",
       "      <td>1000000.0</td>\n",
       "      <td>1000000.0</td>\n",
       "      <td>1000000.0</td>\n",
       "      <td>...</td>\n",
       "      <td>357492.000000</td>\n",
       "      <td>127271.000000</td>\n",
       "      <td>663845.000000</td>\n",
       "      <td>688551.000000</td>\n",
       "      <td>974860.000000</td>\n",
       "      <td>688808.000000</td>\n",
       "      <td>683101.000000</td>\n",
       "      <td>6.639410e+05</td>\n",
       "      <td>9.747070e+05</td>\n",
       "      <td>9.995510e+05</td>\n",
       "    </tr>\n",
       "    <tr>\n",
       "      <th>mean</th>\n",
       "      <td>22050.0</td>\n",
       "      <td>0.0</td>\n",
       "      <td>249.500755</td>\n",
       "      <td>0.819850</td>\n",
       "      <td>0.0</td>\n",
       "      <td>0.0</td>\n",
       "      <td>0.0</td>\n",
       "      <td>0.0</td>\n",
       "      <td>0.0</td>\n",
       "      <td>0.0</td>\n",
       "      <td>...</td>\n",
       "      <td>38.999425</td>\n",
       "      <td>-51.684776</td>\n",
       "      <td>27180.366161</td>\n",
       "      <td>873.333326</td>\n",
       "      <td>1.497736</td>\n",
       "      <td>382594.413299</td>\n",
       "      <td>157820.728287</td>\n",
       "      <td>4.399944e+06</td>\n",
       "      <td>1.228737e+06</td>\n",
       "      <td>9.399613e+04</td>\n",
       "    </tr>\n",
       "    <tr>\n",
       "      <th>std</th>\n",
       "      <td>0.0</td>\n",
       "      <td>0.0</td>\n",
       "      <td>126.229636</td>\n",
       "      <td>3.304457</td>\n",
       "      <td>0.0</td>\n",
       "      <td>0.0</td>\n",
       "      <td>0.0</td>\n",
       "      <td>0.0</td>\n",
       "      <td>0.0</td>\n",
       "      <td>0.0</td>\n",
       "      <td>...</td>\n",
       "      <td>15.196324</td>\n",
       "      <td>60.966460</td>\n",
       "      <td>49280.664253</td>\n",
       "      <td>9453.443034</td>\n",
       "      <td>348.971791</td>\n",
       "      <td>243910.981596</td>\n",
       "      <td>234384.121982</td>\n",
       "      <td>2.633287e+06</td>\n",
       "      <td>2.323994e+06</td>\n",
       "      <td>7.204887e+05</td>\n",
       "    </tr>\n",
       "    <tr>\n",
       "      <th>min</th>\n",
       "      <td>22050.0</td>\n",
       "      <td>0.0</td>\n",
       "      <td>0.313020</td>\n",
       "      <td>0.000000</td>\n",
       "      <td>0.0</td>\n",
       "      <td>0.0</td>\n",
       "      <td>0.0</td>\n",
       "      <td>0.0</td>\n",
       "      <td>0.0</td>\n",
       "      <td>0.0</td>\n",
       "      <td>...</td>\n",
       "      <td>-53.100000</td>\n",
       "      <td>-155.994000</td>\n",
       "      <td>-118.000000</td>\n",
       "      <td>-3.000000</td>\n",
       "      <td>-1.000000</td>\n",
       "      <td>0.000000</td>\n",
       "      <td>-1.000000</td>\n",
       "      <td>0.000000e+00</td>\n",
       "      <td>-1.000000e+00</td>\n",
       "      <td>0.000000e+00</td>\n",
       "    </tr>\n",
       "    <tr>\n",
       "      <th>25%</th>\n",
       "      <td>22050.0</td>\n",
       "      <td>0.0</td>\n",
       "      <td>180.740770</td>\n",
       "      <td>0.000000</td>\n",
       "      <td>0.0</td>\n",
       "      <td>0.0</td>\n",
       "      <td>0.0</td>\n",
       "      <td>0.0</td>\n",
       "      <td>0.0</td>\n",
       "      <td>0.0</td>\n",
       "      <td>...</td>\n",
       "      <td>34.072150</td>\n",
       "      <td>-93.365860</td>\n",
       "      <td>-1.000000</td>\n",
       "      <td>0.000000</td>\n",
       "      <td>0.000000</td>\n",
       "      <td>174727.000000</td>\n",
       "      <td>0.327737</td>\n",
       "      <td>2.180134e+06</td>\n",
       "      <td>0.000000e+00</td>\n",
       "      <td>0.000000e+00</td>\n",
       "    </tr>\n",
       "    <tr>\n",
       "      <th>50%</th>\n",
       "      <td>22050.0</td>\n",
       "      <td>0.0</td>\n",
       "      <td>228.858320</td>\n",
       "      <td>0.194000</td>\n",
       "      <td>0.0</td>\n",
       "      <td>0.0</td>\n",
       "      <td>0.0</td>\n",
       "      <td>0.0</td>\n",
       "      <td>0.0</td>\n",
       "      <td>0.0</td>\n",
       "      <td>...</td>\n",
       "      <td>40.655070</td>\n",
       "      <td>-74.726710</td>\n",
       "      <td>-1.000000</td>\n",
       "      <td>0.000000</td>\n",
       "      <td>0.000000</td>\n",
       "      <td>367198.000000</td>\n",
       "      <td>0.640969</td>\n",
       "      <td>4.309458e+06</td>\n",
       "      <td>0.000000e+00</td>\n",
       "      <td>0.000000e+00</td>\n",
       "    </tr>\n",
       "    <tr>\n",
       "      <th>75%</th>\n",
       "      <td>22050.0</td>\n",
       "      <td>0.0</td>\n",
       "      <td>289.932610</td>\n",
       "      <td>0.432000</td>\n",
       "      <td>0.0</td>\n",
       "      <td>0.0</td>\n",
       "      <td>0.0</td>\n",
       "      <td>0.0</td>\n",
       "      <td>0.0</td>\n",
       "      <td>0.0</td>\n",
       "      <td>...</td>\n",
       "      <td>47.603560</td>\n",
       "      <td>-1.207880</td>\n",
       "      <td>38624.000000</td>\n",
       "      <td>0.000000</td>\n",
       "      <td>0.000000</td>\n",
       "      <td>597295.000000</td>\n",
       "      <td>285010.000000</td>\n",
       "      <td>6.691976e+06</td>\n",
       "      <td>1.269624e+06</td>\n",
       "      <td>1.998000e+03</td>\n",
       "    </tr>\n",
       "    <tr>\n",
       "      <th>max</th>\n",
       "      <td>22050.0</td>\n",
       "      <td>0.0</td>\n",
       "      <td>3034.905670</td>\n",
       "      <td>1163.941000</td>\n",
       "      <td>0.0</td>\n",
       "      <td>0.0</td>\n",
       "      <td>0.0</td>\n",
       "      <td>0.0</td>\n",
       "      <td>0.0</td>\n",
       "      <td>0.0</td>\n",
       "      <td>...</td>\n",
       "      <td>70.695760</td>\n",
       "      <td>178.690960</td>\n",
       "      <td>242965.000000</td>\n",
       "      <td>213838.000000</td>\n",
       "      <td>88526.000000</td>\n",
       "      <td>823654.000000</td>\n",
       "      <td>823603.000000</td>\n",
       "      <td>9.091277e+06</td>\n",
       "      <td>9.090577e+06</td>\n",
       "      <td>9.090617e+06</td>\n",
       "    </tr>\n",
       "  </tbody>\n",
       "</table>\n",
       "<p>8 rows × 42 columns</p>\n",
       "</div>"
      ],
      "text/plain": [
       "       analysis_sample_rate  danceability        duration  end_of_fade_in  \\\n",
       "count             1000000.0     1000000.0  1000000.000000  1000000.000000   \n",
       "mean                22050.0           0.0      249.500755        0.819850   \n",
       "std                     0.0           0.0      126.229636        3.304457   \n",
       "min                 22050.0           0.0        0.313020        0.000000   \n",
       "25%                 22050.0           0.0      180.740770        0.000000   \n",
       "50%                 22050.0           0.0      228.858320        0.194000   \n",
       "75%                 22050.0           0.0      289.932610        0.432000   \n",
       "max                 22050.0           0.0     3034.905670     1163.941000   \n",
       "\n",
       "          energy  idx_bars_confidence  idx_bars_start  idx_beats_confidence  \\\n",
       "count  1000000.0            1000000.0       1000000.0             1000000.0   \n",
       "mean         0.0                  0.0             0.0                   0.0   \n",
       "std          0.0                  0.0             0.0                   0.0   \n",
       "min          0.0                  0.0             0.0                   0.0   \n",
       "25%          0.0                  0.0             0.0                   0.0   \n",
       "50%          0.0                  0.0             0.0                   0.0   \n",
       "75%          0.0                  0.0             0.0                   0.0   \n",
       "max          0.0                  0.0             0.0                   0.0   \n",
       "\n",
       "       idx_beats_start  idx_sections_confidence  ...  artist_latitude  \\\n",
       "count        1000000.0                1000000.0  ...    357492.000000   \n",
       "mean               0.0                      0.0  ...        38.999425   \n",
       "std                0.0                      0.0  ...        15.196324   \n",
       "min                0.0                      0.0  ...       -53.100000   \n",
       "25%                0.0                      0.0  ...        34.072150   \n",
       "50%                0.0                      0.0  ...        40.655070   \n",
       "75%                0.0                      0.0  ...        47.603560   \n",
       "max                0.0                      0.0  ...        70.695760   \n",
       "\n",
       "       artist_longitude  artist_playmeid  idx_artist_terms  \\\n",
       "count     127271.000000    663845.000000     688551.000000   \n",
       "mean         -51.684776     27180.366161        873.333326   \n",
       "std           60.966460     49280.664253       9453.443034   \n",
       "min         -155.994000      -118.000000         -3.000000   \n",
       "25%          -93.365860        -1.000000          0.000000   \n",
       "50%          -74.726710        -1.000000          0.000000   \n",
       "75%           -1.207880     38624.000000          0.000000   \n",
       "max          178.690960    242965.000000     213838.000000   \n",
       "\n",
       "       idx_similar_artists  release_7digitalid  song_hotttnesss  \\\n",
       "count        974860.000000       688808.000000    683101.000000   \n",
       "mean              1.497736       382594.413299    157820.728287   \n",
       "std             348.971791       243910.981596    234384.121982   \n",
       "min              -1.000000            0.000000        -1.000000   \n",
       "25%               0.000000       174727.000000         0.327737   \n",
       "50%               0.000000       367198.000000         0.640969   \n",
       "75%               0.000000       597295.000000    285010.000000   \n",
       "max           88526.000000       823654.000000    823603.000000   \n",
       "\n",
       "       track_7digitalid  idx_artist_mbtags          year  \n",
       "count      6.639410e+05       9.747070e+05  9.995510e+05  \n",
       "mean       4.399944e+06       1.228737e+06  9.399613e+04  \n",
       "std        2.633287e+06       2.323994e+06  7.204887e+05  \n",
       "min        0.000000e+00      -1.000000e+00  0.000000e+00  \n",
       "25%        2.180134e+06       0.000000e+00  0.000000e+00  \n",
       "50%        4.309458e+06       0.000000e+00  0.000000e+00  \n",
       "75%        6.691976e+06       1.269624e+06  1.998000e+03  \n",
       "max        9.091277e+06       9.090577e+06  9.090617e+06  \n",
       "\n",
       "[8 rows x 42 columns]"
      ]
     },
     "execution_count": 11,
     "metadata": {},
     "output_type": "execute_result"
    }
   ],
   "source": [
    "df.describe()"
   ]
  },
  {
   "cell_type": "code",
   "execution_count": 12,
   "metadata": {
    "scrolled": true
   },
   "outputs": [
    {
     "data": {
      "text/plain": [
       "analysis_sample_rate                   0\n",
       "audio_md5                              0\n",
       "danceability                           0\n",
       "duration                               0\n",
       "end_of_fade_in                         0\n",
       "energy                                 0\n",
       "idx_bars_confidence                    0\n",
       "idx_bars_start                         0\n",
       "idx_beats_confidence                   0\n",
       "idx_beats_start                        0\n",
       "idx_sections_confidence                0\n",
       "idx_sections_start                     0\n",
       "idx_segments_confidence                0\n",
       "idx_segments_loudness_max              0\n",
       "idx_segments_loudness_max_time         0\n",
       "idx_segments_loudness_start            0\n",
       "idx_segments_pitches                   0\n",
       "idx_segments_start                     0\n",
       "idx_segments_timbre                    0\n",
       "idx_tatums_confidence                  0\n",
       "idx_tatums_start                       0\n",
       "key                                    0\n",
       "key_confidence                         0\n",
       "loudness                               0\n",
       "mode                                   0\n",
       "mode_confidence                        0\n",
       "start_of_fade_out                      0\n",
       "tempo                                  0\n",
       "time_signature                         0\n",
       "time_signature_confidence              0\n",
       "track_id                               0\n",
       "analyzer_version                       0\n",
       "artist_7digitalid                      0\n",
       "artist_familiarity                   185\n",
       "artist_hotttnesss                     12\n",
       "artist_id                              0\n",
       "artist_latitude                   642508\n",
       "artist_location                        0\n",
       "artist_longitude                  872729\n",
       "artist_mbid                            0\n",
       "artist_name                            0\n",
       "artist_playmeid                   336155\n",
       "genre                                  0\n",
       "idx_artist_terms                  311449\n",
       "idx_similar_artists                25140\n",
       "release                                0\n",
       "release_7digitalid                311192\n",
       "song_hotttnesss                   316899\n",
       "song_id                                0\n",
       "title                                  0\n",
       "track_7digitalid                  336059\n",
       "idx_artist_mbtags                  25293\n",
       "year                                 449\n",
       "dtype: int64"
      ]
     },
     "execution_count": 12,
     "metadata": {},
     "output_type": "execute_result"
    }
   ],
   "source": [
    "df.isna().sum()"
   ]
  },
  {
   "cell_type": "code",
   "execution_count": 13,
   "metadata": {
    "scrolled": true
   },
   "outputs": [
    {
     "data": {
      "text/plain": [
       "analysis_sample_rate                    0\n",
       "audio_md5                               0\n",
       "danceability                      1000000\n",
       "duration                                0\n",
       "end_of_fade_in                     311267\n",
       "energy                            1000000\n",
       "idx_bars_confidence               1000000\n",
       "idx_bars_start                    1000000\n",
       "idx_beats_confidence              1000000\n",
       "idx_beats_start                   1000000\n",
       "idx_sections_confidence           1000000\n",
       "idx_sections_start                1000000\n",
       "idx_segments_confidence           1000000\n",
       "idx_segments_loudness_max         1000000\n",
       "idx_segments_loudness_max_time    1000000\n",
       "idx_segments_loudness_start       1000000\n",
       "idx_segments_pitches              1000000\n",
       "idx_segments_start                1000000\n",
       "idx_segments_timbre               1000000\n",
       "idx_tatums_confidence             1000000\n",
       "idx_tatums_start                  1000000\n",
       "key                                122237\n",
       "key_confidence                      55849\n",
       "loudness                                0\n",
       "mode                               333592\n",
       "mode_confidence                     31794\n",
       "start_of_fade_out                       0\n",
       "tempo                                3230\n",
       "time_signature                        619\n",
       "time_signature_confidence          204888\n",
       "track_id                                0\n",
       "analyzer_version                        0\n",
       "artist_7digitalid                       0\n",
       "artist_familiarity                   2548\n",
       "artist_hotttnesss                   50528\n",
       "artist_id                               0\n",
       "artist_latitude                         0\n",
       "artist_location                         0\n",
       "artist_longitude                        0\n",
       "artist_mbid                             0\n",
       "artist_name                             0\n",
       "artist_playmeid                         0\n",
       "genre                                   0\n",
       "idx_artist_terms                   663600\n",
       "idx_similar_artists                974603\n",
       "release                                 0\n",
       "release_7digitalid                  25199\n",
       "song_hotttnesss                     88350\n",
       "song_id                                 0\n",
       "title                                   0\n",
       "track_7digitalid                      178\n",
       "idx_artist_mbtags                  663695\n",
       "year                               664720\n",
       "dtype: int64"
      ]
     },
     "execution_count": 13,
     "metadata": {},
     "output_type": "execute_result"
    }
   ],
   "source": [
    "(df==0).sum()"
   ]
  },
  {
   "cell_type": "code",
   "execution_count": 14,
   "metadata": {},
   "outputs": [
    {
     "data": {
      "text/plain": [
       "(array([6.10000e+01, 9.50000e+01, 3.35000e+02, 1.91600e+03, 8.60900e+03,\n",
       "        3.34440e+04, 1.27530e+05, 3.97419e+05, 4.28018e+05, 2.57300e+03]),\n",
       " array([-58.178 , -51.9284, -45.6788, -39.4292, -33.1796, -26.93  ,\n",
       "        -20.6804, -14.4308,  -8.1812,  -1.9316,   4.318 ]),\n",
       " <a list of 10 Patch objects>)"
      ]
     },
     "execution_count": 14,
     "metadata": {},
     "output_type": "execute_result"
    },
    {
     "data": {
      "image/png": "[encoded data removed]",
      "text/plain": [
       "<Figure size 432x288 with 1 Axes>"
      ]
     },
     "metadata": {
      "needs_background": "light"
     },
     "output_type": "display_data"
    }
   ],
   "source": [
    "plt.hist(df['loudness'])"
   ]
  },
  {
   "cell_type": "code",
   "execution_count": 15,
   "metadata": {},
   "outputs": [
    {
     "data": {
      "text/plain": [
       "(array([3.82500e+03, 1.45470e+04, 1.48353e+05, 3.18692e+05, 3.13132e+05,\n",
       "        1.37593e+05, 4.91120e+04, 1.32590e+04, 1.46500e+03, 2.20000e+01]),\n",
       " array([  0.  ,  30.23,  60.46,  90.69, 120.92, 151.15, 181.38, 211.61,\n",
       "        241.84, 272.07, 302.3 ]),\n",
       " <a list of 10 Patch objects>)"
      ]
     },
     "execution_count": 15,
     "metadata": {},
     "output_type": "execute_result"
    },
    {
     "data": {
      "image/png": "[encoded data removed]",
      "text/plain": [
       "<Figure size 432x288 with 1 Axes>"
      ]
     },
     "metadata": {
      "needs_background": "light"
     },
     "output_type": "display_data"
    }
   ],
   "source": [
    "plt.hist(df['tempo'])"
   ]
  },
  {
   "cell_type": "code",
   "execution_count": 16,
   "metadata": {},
   "outputs": [
    {
     "data": {
      "text/plain": [
       "(array([979937.,   2224.,   2304.,   3478.,   2235.,   2009.,   2206.,\n",
       "          1882.,   1509.,   1767.]),\n",
       " array([      0. ,  909061.7, 1818123.4, 2727185.1, 3636246.8, 4545308.5,\n",
       "        5454370.2, 6363431.9, 7272493.6, 8181555.3, 9090617. ]),\n",
       " <a list of 10 Patch objects>)"
      ]
     },
     "execution_count": 16,
     "metadata": {},
     "output_type": "execute_result"
    },
    {
     "data": {
      "image/png": "[encoded data removed]",
      "text/plain": [
       "<Figure size 432x288 with 1 Axes>"
      ]
     },
     "metadata": {
      "needs_background": "light"
     },
     "output_type": "display_data"
    }
   ],
   "source": [
    "plt.hist(df['year'])"
   ]
  },
  {
   "cell_type": "code",
   "execution_count": 17,
   "metadata": {},
   "outputs": [
    {
     "data": {
      "text/plain": [
       "{'bodies': [<matplotlib.collections.PolyCollection at 0x7fd720d1e9d0>],\n",
       " 'cmaxes': <matplotlib.collections.LineCollection at 0x7fd720d1e790>,\n",
       " 'cmins': <matplotlib.collections.LineCollection at 0x7fd720d29e10>,\n",
       " 'cbars': <matplotlib.collections.LineCollection at 0x7fd720d34dd0>}"
      ]
     },
     "execution_count": 17,
     "metadata": {},
     "output_type": "execute_result"
    },
    {
     "data": {
      "image/png": "[encoded data removed]",
      "text/plain": [
       "<Figure size 432x288 with 1 Axes>"
      ]
     },
     "metadata": {
      "needs_background": "light"
     },
     "output_type": "display_data"
    }
   ],
   "source": [
    "plt.violinplot(df[~df.year.isna()]['year'])"
   ]
  },
  {
   "cell_type": "code",
   "execution_count": 18,
   "metadata": {},
   "outputs": [
    {
     "data": {
      "text/plain": [
       "(array([ 10426.,   5246.,  14937.,  70230., 215473., 317989., 225816.,\n",
       "         99311.,  37344.,   3043.]),\n",
       " array([0. , 0.1, 0.2, 0.3, 0.4, 0.5, 0.6, 0.7, 0.8, 0.9, 1. ]),\n",
       " <a list of 10 Patch objects>)"
      ]
     },
     "execution_count": 18,
     "metadata": {},
     "output_type": "execute_result"
    },
    {
     "data": {
      "image/png": "[encoded data removed]",
      "text/plain": [
       "<Figure size 432x288 with 1 Axes>"
      ]
     },
     "metadata": {
      "needs_background": "light"
     },
     "output_type": "display_data"
    }
   ],
   "source": [
    "plt.hist(df['artist_familiarity'])"
   ]
  },
  {
   "cell_type": "markdown",
   "metadata": {},
   "source": [
    "# Preprocessing"
   ]
  },
  {
   "cell_type": "markdown",
   "metadata": {},
   "source": [
    "## Create Clean Frame\n",
    "* Filter 0 year and years that are > 2022. ==> Note that this SIGNIFICANTLY reduces # of records we can work with so may choose not to do it.\n",
    "* Select a subset of columns"
   ]
  },
  {
   "cell_type": "code",
   "execution_count": null,
   "metadata": {},
   "outputs": [],
   "source": [
    "# filtered_df = df[(df['year']>0)&(df['year']<=2022)][['loudness','tempo','artist_hotttness'\n",
    "#                                                      ,'artist_familiarity','genre','song_hotttness'\n",
    "#                                                      ,'track_id','song_id','artist_id'\n",
    "#                                                      ,'artist_name','title']].copy()\n",
    "filtered_df_1 = df[[\n",
    "    'loudness',\n",
    "    'tempo',\n",
    "    'artist_hotttnesss',\n",
    "    'artist_familiarity',\n",
    "    'genre',\n",
    "    'song_hotttnesss',\n",
    "    'track_id',\n",
    "    'song_id',\n",
    "    'artist_id',\n",
    "    'artist_name',\n",
    "    'title'\n",
    "]].copy()"
   ]
  },
  {
   "cell_type": "markdown",
   "metadata": {},
   "source": [
    "## Pipeline for Feature Selection"
   ]
  },
  {
   "cell_type": "code",
   "execution_count": 20,
   "metadata": {},
   "outputs": [],
   "source": [
    "scaler_step = Pipeline([\n",
    "    (\"imputer\", SimpleImputer(strategy='constant', fill_value=0)),\n",
    "    (\"scaler\", StandardScaler())\n",
    "])\n",
    "\n",
    "encoder_step = Pipeline([\n",
    "    (\"encoder\", OneHotEncoder())\n",
    "])"
   ]
  },
  {
   "cell_type": "code",
   "execution_count": 21,
   "metadata": {},
   "outputs": [],
   "source": [
    "transformers = ColumnTransformer([\n",
    "    (\"scaler_process\", scaler_step, ['loudness', \n",
    "                                     'tempo', \n",
    "                                     'artist_hotttnesss', \n",
    "                                     'song_hotttnesss',\n",
    "                                     'artist_familiarity'\n",
    "                                    ])\n",
    "    ,\n",
    "    (\"encoder_process\", encoder_step, ['genre'])\n",
    "])"
   ]
  },
  {
   "cell_type": "code",
   "execution_count": 22,
   "metadata": {},
   "outputs": [],
   "source": [
    "feature_pipeline = Pipeline([\n",
    "    (\"processor\", transformers),\n",
    "    (\"kmeans_modeller\", KMeans(random_state=1))\n",
    "])"
   ]
  },
  {
   "cell_type": "markdown",
   "metadata": {},
   "source": [
    "### Split the data"
   ]
  },
  {
   "cell_type": "code",
   "execution_count": 23,
   "metadata": {},
   "outputs": [],
   "source": [
    "train_indices = np.random.choice(filtered_df_1.index, size=int(filtered_df_1.shape[0]*0.8), replace=False)"
   ]
  },
  {
   "cell_type": "code",
   "execution_count": 24,
   "metadata": {},
   "outputs": [],
   "source": [
    "test_df_1 = filtered_df_1[~filtered_df_1.index.isin(train_indices)]\n",
    "train_df_1 = filtered_df_1[filtered_df_1.index.isin(train_indices)]"
   ]
  },
  {
   "cell_type": "code",
   "execution_count": null,
   "metadata": {},
   "outputs": [],
   "source": [
    "%store -r df"
   ]
  },
  {
   "cell_type": "markdown",
   "metadata": {},
   "source": [
    "### Feed the train set to feature pipeline"
   ]
  },
  {
   "cell_type": "code",
   "execution_count": null,
   "metadata": {
    "scrolled": true
   },
   "outputs": [],
   "source": [
    "feature_pipeline.fit(train_df_1)"
   ]
  },
  {
   "cell_type": "markdown",
   "metadata": {},
   "source": [
    "### Extract model"
   ]
  },
  {
   "cell_type": "code",
   "execution_count": null,
   "metadata": {},
   "outputs": [],
   "source": [
    "feat_selection_kmeans = feature_pipeline['kmeans_modeller']\n",
    "feat_selection_dbscan = feature_pipeline['dbscan_modeller']"
   ]
  },
  {
   "cell_type": "markdown",
   "metadata": {},
   "source": [
    "### Extract transformed dataframe"
   ]
  },
  {
   "cell_type": "code",
   "execution_count": null,
   "metadata": {},
   "outputs": [],
   "source": [
    "transformed_train_df_1 = feature_pipeline['processor'].fit_transform(train_df_1)"
   ]
  },
  {
   "cell_type": "markdown",
   "metadata": {},
   "source": [
    "### Scoring the clustering methods"
   ]
  },
  {
   "cell_type": "markdown",
   "metadata": {},
   "source": [
    "#### Kmeans"
   ]
  },
  {
   "cell_type": "code",
   "execution_count": null,
   "metadata": {},
   "outputs": [],
   "source": [
    "silhouette_score(transformed_train_df_1, feat_selection_kmeans.labels_, metric='euclidean',sample_size=int(train_df_1.shape[0]*0.3))"
   ]
  },
  {
   "cell_type": "code",
   "execution_count": null,
   "metadata": {},
   "outputs": [],
   "source": [
    "calinski_harabasz_score(transformed_train_df_1.toarray(), feat_selection_kmeans.labels_)"
   ]
  },
  {
   "cell_type": "code",
   "execution_count": null,
   "metadata": {},
   "outputs": [],
   "source": [
    "kmeans_classes = np.unique(feat_selection_kmeans.labels_)"
   ]
  },
  {
   "cell_type": "code",
   "execution_count": null,
   "metadata": {},
   "outputs": [],
   "source": [
    "feat_selection_kmeans.cluster_centers_"
   ]
  }
 ],
 "metadata": {
  "instance_type": "ml.m5.2xlarge",
  "kernelspec": {
   "display_name": "Python 3 (Data Science)",
   "language": "python",
   "name": "python3__SAGEMAKER_INTERNAL__arn:aws:sagemaker:us-east-1:081325390199:image/datascience-1.0"
  },
  "language_info": {
   "codemirror_mode": {
    "name": "ipython",
    "version": 3
   },
   "file_extension": ".py",
   "mimetype": "text/x-python",
   "name": "python",
   "nbconvert_exporter": "python",
   "pygments_lexer": "ipython3",
   "version": "3.7.10"
  }
 },
 "nbformat": 4,
 "nbformat_minor": 4
}
