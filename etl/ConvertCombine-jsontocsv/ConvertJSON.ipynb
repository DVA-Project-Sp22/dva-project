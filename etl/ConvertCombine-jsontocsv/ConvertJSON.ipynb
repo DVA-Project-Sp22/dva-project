{
 "cells": [
  {
   "cell_type": "code",
   "execution_count": 1,
   "metadata": {},
   "outputs": [],
   "source": [
    "import boto3\n",
    "import json\n",
    "import pandas as pd"
   ]
  },
  {
   "cell_type": "code",
   "execution_count": 60,
   "metadata": {},
   "outputs": [],
   "source": [
    "# s3://echonest-intermediate-json/json/AA/SOAAABI12A8C13615F.json\n",
    "bucket = 'echonest-intermediate-json'\n",
    "file_name = 'json/AA/SOAAABI12A8C13615F.json'\n",
    "prefix = 'json/AA'"
   ]
  },
  {
   "cell_type": "code",
   "execution_count": 100,
   "metadata": {},
   "outputs": [],
   "source": [
    "combined_df = pd.DataFrame(\n",
    "    {\n",
    "        \"song_id\": pd.Series(dtype=\"str\"),\n",
    "        \"spotify_id\": pd.Series(dtype=\"str\")\n",
    "    }\n",
    ")"
   ]
  },
  {
   "cell_type": "code",
   "execution_count": 73,
   "metadata": {},
   "outputs": [],
   "source": [
    "s3 = boto3.resource('s3')\n",
    "\n"
   ]
  },
  {
   "cell_type": "code",
   "execution_count": 66,
   "metadata": {},
   "outputs": [
    {
     "data": {
      "text/html": [
       "<div>\n",
       "<style scoped>\n",
       "    .dataframe tbody tr th:only-of-type {\n",
       "        vertical-align: middle;\n",
       "    }\n",
       "\n",
       "    .dataframe tbody tr th {\n",
       "        vertical-align: top;\n",
       "    }\n",
       "\n",
       "    .dataframe thead th {\n",
       "        text-align: right;\n",
       "    }\n",
       "</style>\n",
       "<table border=\"1\" class=\"dataframe\">\n",
       "  <thead>\n",
       "    <tr style=\"text-align: right;\">\n",
       "      <th></th>\n",
       "      <th>song_id</th>\n",
       "      <th>spotify_id</th>\n",
       "    </tr>\n",
       "  </thead>\n",
       "  <tbody>\n",
       "    <tr>\n",
       "      <th>0</th>\n",
       "      <td>SOAAABI12A8C13615F</td>\n",
       "      <td>spotify:track:6i9aLGfG1Id1oCcpgmRjmE</td>\n",
       "    </tr>\n",
       "    <tr>\n",
       "      <th>1</th>\n",
       "      <td>SOAAABI12A8C13615F</td>\n",
       "      <td>spotify:track:6i9aLGfG1Id1oCcpgmRjmE</td>\n",
       "    </tr>\n",
       "  </tbody>\n",
       "</table>\n",
       "</div>"
      ],
      "text/plain": [
       "              song_id                            spotify_id\n",
       "0  SOAAABI12A8C13615F  spotify:track:6i9aLGfG1Id1oCcpgmRjmE\n",
       "1  SOAAABI12A8C13615F  spotify:track:6i9aLGfG1Id1oCcpgmRjmE"
      ]
     },
     "execution_count": 66,
     "metadata": {},
     "output_type": "execute_result"
    }
   ],
   "source": [
    "combined_df"
   ]
  },
  {
   "cell_type": "code",
   "execution_count": 82,
   "metadata": {},
   "outputs": [],
   "source": [
    "s3Client = boto3.client('s3')\n",
    "\n",
    "response = s3Client.list_objects_v2(\n",
    "    Bucket=bucket,\n",
    "    Prefix=prefix\n",
    ")\n",
    "\n",
    "files = [file['Key'] for file in response['Contents']]"
   ]
  },
  {
   "cell_type": "code",
   "execution_count": 101,
   "metadata": {},
   "outputs": [],
   "source": [
    "for file_name in files:\n",
    "\n",
    "    content_object = s3.Object(bucket, file_name)\n",
    "    file_content = content_object.get()['Body'].read().decode('utf-8')\n",
    "    json_content = json.loads(file_content)\n",
    "    \n",
    "    spotify_id = None\n",
    "\n",
    "    if len(json_content['response']['songs']) > 0:\n",
    "        \n",
    "        track_info = json_content['response']['songs'][0]['tracks']\n",
    "    \n",
    "        song_id = json_content['response']['songs'][0]['id']\n",
    "    \n",
    "        for track in track_info:\n",
    "            if track['catalog'] == 'spotify':\n",
    "                spotify_id = track['foreign_id']\n",
    "                break\n",
    "    else:\n",
    "        song_id = file_name.split('/')[-1].split('.')[0]\n",
    "\n",
    "    song_df = pd.DataFrame({'song_id': song_id, 'spotify_id': spotify_id}, index=[0])\n",
    "\n",
    "    combined_df = pd.concat([combined_df, song_df], axis=0).reset_index(drop=True) \n"
   ]
  },
  {
   "cell_type": "code",
   "execution_count": 113,
   "metadata": {},
   "outputs": [],
   "source": [
    "import json\n",
    " \n",
    "data = json.load(open('sample-event.json'))"
   ]
  },
  {
   "cell_type": "code",
   "execution_count": 115,
   "metadata": {},
   "outputs": [],
   "source": [
    "body = json.loads(data['Records'][0]['body'])"
   ]
  }
 ],
 "metadata": {
  "interpreter": {
   "hash": "1c53e9bdfe80d3c5583b741a8a24bc6913c1a8c4f7d300128dacddd53305a040"
  },
  "kernelspec": {
   "display_name": "Python 3.9.7 ('cse6242-finalproject')",
   "language": "python",
   "name": "python3"
  },
  "language_info": {
   "codemirror_mode": {
    "name": "ipython",
    "version": 3
   },
   "file_extension": ".py",
   "mimetype": "text/x-python",
   "name": "python",
   "nbconvert_exporter": "python",
   "pygments_lexer": "ipython3",
   "version": "3.9.7"
  },
  "orig_nbformat": 4
 },
 "nbformat": 4,
 "nbformat_minor": 2
}
