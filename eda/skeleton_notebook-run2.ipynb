{
 "cells": [
  {
   "cell_type": "markdown",
   "metadata": {},
   "source": [
    "# Library"
   ]
  },
  {
   "cell_type": "code",
   "execution_count": 1,
   "metadata": {},
   "outputs": [],
   "source": [
    "import pandas as pd\n",
    "import sys"
   ]
  },
  {
   "cell_type": "code",
   "execution_count": 2,
   "metadata": {},
   "outputs": [
    {
     "name": "stdout",
     "output_type": "stream",
     "text": [
      "Can you see this?\n"
     ]
    }
   ],
   "source": [
    "print(\"Can you see this?\")"
   ]
  },
  {
   "cell_type": "code",
   "execution_count": 3,
   "metadata": {},
   "outputs": [
    {
     "name": "stdout",
     "output_type": "stream",
     "text": [
      "/opt/conda/lib/python3.7/site-packages/secretstorage/dhcrypto.py:16: CryptographyDeprecationWarning: int_from_bytes is deprecated, use int.from_bytes instead\n",
      "  from cryptography.utils import int_from_bytes\n",
      "/opt/conda/lib/python3.7/site-packages/secretstorage/util.py:25: CryptographyDeprecationWarning: int_from_bytes is deprecated, use int.from_bytes instead\n",
      "  from cryptography.utils import int_from_bytes\n",
      "Requirement already satisfied: PyAthena in /opt/conda/lib/python3.7/site-packages (2.5.2)\n",
      "Requirement already satisfied: boto3>=1.4.4 in /opt/conda/lib/python3.7/site-packages (from PyAthena) (1.20.23)\n",
      "Requirement already satisfied: tenacity>=4.1.0 in /opt/conda/lib/python3.7/site-packages (from PyAthena) (8.0.1)\n",
      "Requirement already satisfied: botocore>=1.5.52 in /opt/conda/lib/python3.7/site-packages (from PyAthena) (1.23.23)\n",
      "Requirement already satisfied: s3transfer<0.6.0,>=0.5.0 in /opt/conda/lib/python3.7/site-packages (from boto3>=1.4.4->PyAthena) (0.5.0)\n",
      "Requirement already satisfied: jmespath<1.0.0,>=0.7.1 in /opt/conda/lib/python3.7/site-packages (from boto3>=1.4.4->PyAthena) (0.10.0)\n",
      "Requirement already satisfied: urllib3<1.27,>=1.25.4 in /opt/conda/lib/python3.7/site-packages (from botocore>=1.5.52->PyAthena) (1.26.7)\n",
      "Requirement already satisfied: python-dateutil<3.0.0,>=2.1 in /opt/conda/lib/python3.7/site-packages (from botocore>=1.5.52->PyAthena) (2.8.1)\n",
      "Requirement already satisfied: six>=1.5 in /opt/conda/lib/python3.7/site-packages (from python-dateutil<3.0.0,>=2.1->botocore>=1.5.52->PyAthena) (1.14.0)\n",
      "\u001b[33mWARNING: Running pip as the 'root' user can result in broken permissions and conflicting behaviour with the system package manager. It is recommended to use a virtual environment instead: https://pip.pypa.io/warnings/venv\u001b[0m\n",
      "\u001b[33mWARNING: You are using pip version 21.3.1; however, version 22.0.4 is available.\n",
      "You should consider upgrading via the '/opt/conda/bin/python -m pip install --upgrade pip' command.\u001b[0m\n"
     ]
    }
   ],
   "source": [
    "!{sys.executable} -m pip install PyAthena"
   ]
  },
  {
   "cell_type": "code",
   "execution_count": 4,
   "metadata": {},
   "outputs": [],
   "source": [
    "from pyathena import connect"
   ]
  },
  {
   "cell_type": "code",
   "execution_count": 5,
   "metadata": {},
   "outputs": [],
   "source": [
    "import numpy as np\n",
    "import matplotlib.pyplot as plt"
   ]
  },
  {
   "cell_type": "code",
   "execution_count": 6,
   "metadata": {},
   "outputs": [],
   "source": [
    "from sklearn.preprocessing import StandardScaler, OneHotEncoder\n",
    "from sklearn.pipeline import Pipeline\n",
    "from sklearn.compose import ColumnTransformer\n",
    "from sklearn.cluster import KMeans,DBSCAN, SpectralClustering, MiniBatchKMeans\n",
    "from sklearn.metrics import silhouette_score, calinski_harabasz_score\n",
    "from sklearn.impute import SimpleImputer\n",
    "from sklearn.decomposition import SparsePCA\n",
    "from scipy import sparse as sp\n",
    "import scipy"
   ]
  },
  {
   "cell_type": "code",
   "execution_count": 7,
   "metadata": {},
   "outputs": [],
   "source": [
    "np.random.seed(1)"
   ]
  },
  {
   "cell_type": "markdown",
   "metadata": {},
   "source": [
    "### Getting Data\n"
   ]
  },
  {
   "cell_type": "code",
   "execution_count": 8,
   "metadata": {},
   "outputs": [
    {
     "name": "stdout",
     "output_type": "stream",
     "text": [
      "Stored 'df' (DataFrame)\n"
     ]
    }
   ],
   "source": [
    "### UNCOMMENT THE LOGIC BELOW ON THE FIRST RUN###\n",
    "# conn = connect(s3_staging_dir='s3://athena-results-c7fhgh8/',\n",
    "#                region_name='us-east-1')\n",
    "\n",
    "# df = pd.read_sql(\"select * from \\\"millionsongdataset-intermediate\\\".songdata;\", conn)\n",
    "# %store df\n",
    "%store -r df   "
   ]
  },
  {
   "cell_type": "code",
   "execution_count": 9,
   "metadata": {},
   "outputs": [
    {
     "data": {
      "text/plain": [
       "(1000000, 53)"
      ]
     },
     "execution_count": 9,
     "metadata": {},
     "output_type": "execute_result"
    }
   ],
   "source": [
    "df.shape"
   ]
  },
  {
   "cell_type": "code",
   "execution_count": 10,
   "metadata": {
    "scrolled": true
   },
   "outputs": [
    {
     "data": {
      "text/plain": [
       "analysis_sample_rate                   0\n",
       "audio_md5                              0\n",
       "danceability                           0\n",
       "duration                               0\n",
       "end_of_fade_in                         0\n",
       "energy                                 0\n",
       "idx_bars_confidence                    0\n",
       "idx_bars_start                         0\n",
       "idx_beats_confidence                   0\n",
       "idx_beats_start                        0\n",
       "idx_sections_confidence                0\n",
       "idx_sections_start                     0\n",
       "idx_segments_confidence                0\n",
       "idx_segments_loudness_max              0\n",
       "idx_segments_loudness_max_time         0\n",
       "idx_segments_loudness_start            0\n",
       "idx_segments_pitches                   0\n",
       "idx_segments_start                     0\n",
       "idx_segments_timbre                    0\n",
       "idx_tatums_confidence                  0\n",
       "idx_tatums_start                       0\n",
       "key                                    0\n",
       "key_confidence                         0\n",
       "loudness                               0\n",
       "mode                                   0\n",
       "mode_confidence                        0\n",
       "start_of_fade_out                      0\n",
       "tempo                                  0\n",
       "time_signature                         0\n",
       "time_signature_confidence              0\n",
       "track_id                               0\n",
       "analyzer_version                       0\n",
       "artist_7digitalid                      0\n",
       "artist_familiarity                   185\n",
       "artist_hotttnesss                     12\n",
       "artist_id                              0\n",
       "artist_latitude                   642508\n",
       "artist_location                        0\n",
       "artist_longitude                  872729\n",
       "artist_mbid                            0\n",
       "artist_name                            0\n",
       "artist_playmeid                   336155\n",
       "genre                                  0\n",
       "idx_artist_terms                  311449\n",
       "idx_similar_artists                25140\n",
       "release                                0\n",
       "release_7digitalid                311192\n",
       "song_hotttnesss                   316899\n",
       "song_id                                0\n",
       "title                                  0\n",
       "track_7digitalid                  336059\n",
       "idx_artist_mbtags                  25293\n",
       "year                                 449\n",
       "dtype: int64"
      ]
     },
     "execution_count": 10,
     "metadata": {},
     "output_type": "execute_result"
    }
   ],
   "source": [
    "df.isna().sum()"
   ]
  },
  {
   "cell_type": "markdown",
   "metadata": {},
   "source": [
    "# Preprocessing"
   ]
  },
  {
   "cell_type": "markdown",
   "metadata": {},
   "source": [
    "## Create Clean Frame\n",
    "* Filter 0 year and years that are > 2022. ==> Note that this SIGNIFICANTLY reduces # of records we can work with so may choose not to do it.\n",
    "* Select a subset of columns"
   ]
  },
  {
   "cell_type": "code",
   "execution_count": 11,
   "metadata": {},
   "outputs": [],
   "source": [
    "# filtered_df = df[(df['year']>0)&(df['year']<=2022)][['loudness','tempo','artist_hotttness'\n",
    "#                                                      ,'artist_familiarity','genre','song_hotttness'\n",
    "#                                                      ,'track_id','song_id','artist_id'\n",
    "#                                                      ,'artist_name','title']].copy()\n",
    "filtered_df_2 = df[[\n",
    "    'loudness',\n",
    "    'tempo',\n",
    "    'artist_familiarity'\n",
    "]].copy()"
   ]
  },
  {
   "cell_type": "markdown",
   "metadata": {},
   "source": [
    "## Pipeline for Feature Selection"
   ]
  },
  {
   "cell_type": "code",
   "execution_count": 12,
   "metadata": {},
   "outputs": [],
   "source": [
    "scaler_step = Pipeline([\n",
    "    (\"imputer\", SimpleImputer(strategy='constant', fill_value=0)),\n",
    "    (\"scaler\", StandardScaler())\n",
    "])\n",
    "\n",
    "encoder_step = Pipeline([\n",
    "    (\"encoder\", OneHotEncoder())\n",
    "])"
   ]
  },
  {
   "cell_type": "code",
   "execution_count": 13,
   "metadata": {},
   "outputs": [],
   "source": [
    "transformers = ColumnTransformer([\n",
    "    (\"scaler_process\", scaler_step, ['loudness', \n",
    "                                     'tempo', \n",
    "                                     'artist_familiarity'\n",
    "                                    ])\n",
    "#     ,\n",
    "#     (\"encoder_process\", encoder_step, ['genre'])\n",
    "])"
   ]
  },
  {
   "cell_type": "code",
   "execution_count": 14,
   "metadata": {},
   "outputs": [],
   "source": [
    "feature_pipeline = Pipeline([\n",
    "    (\"processor\", transformers),\n",
    "    (\"kmeans_modeller\",  MiniBatchKMeans(random_state=1))\n",
    "])"
   ]
  },
  {
   "cell_type": "markdown",
   "metadata": {},
   "source": [
    "### Split the data"
   ]
  },
  {
   "cell_type": "code",
   "execution_count": 15,
   "metadata": {},
   "outputs": [],
   "source": [
    "train_indices = np.random.choice(filtered_df_2.index, size=int(filtered_df_2.shape[0]*0.8), replace=False)"
   ]
  },
  {
   "cell_type": "code",
   "execution_count": 16,
   "metadata": {},
   "outputs": [],
   "source": [
    "test_df_2 = filtered_df_2[~filtered_df_2.index.isin(train_indices)]\n",
    "train_df_2 = filtered_df_2[filtered_df_2.index.isin(train_indices)]"
   ]
  },
  {
   "cell_type": "markdown",
   "metadata": {},
   "source": [
    "### Feed the train set to feature pipeline"
   ]
  },
  {
   "cell_type": "code",
   "execution_count": 17,
   "metadata": {
    "scrolled": true
   },
   "outputs": [
    {
     "data": {
      "text/plain": [
       "Pipeline(memory=None,\n",
       "         steps=[('processor',\n",
       "                 ColumnTransformer(n_jobs=None, remainder='drop',\n",
       "                                   sparse_threshold=0.3,\n",
       "                                   transformer_weights=None,\n",
       "                                   transformers=[('scaler_process',\n",
       "                                                  Pipeline(memory=None,\n",
       "                                                           steps=[('imputer',\n",
       "                                                                   SimpleImputer(add_indicator=False,\n",
       "                                                                                 copy=True,\n",
       "                                                                                 fill_value=0,\n",
       "                                                                                 missing_values=nan,\n",
       "                                                                                 strategy='constant',\n",
       "                                                                                 verbose=0)),\n",
       "                                                                  ('scaler',\n",
       "                                                                   StandardScaler(copy=True,\n",
       "                                                                                  with_mean=True,\n",
       "                                                                                  with_std=True))],\n",
       "                                                           verbose=False),\n",
       "                                                  ['loudness', 'tempo',\n",
       "                                                   'artist_familiarity'])],\n",
       "                                   verbose=False)),\n",
       "                ('kmeans_modeller',\n",
       "                 MiniBatchKMeans(batch_size=100, compute_labels=True,\n",
       "                                 init='k-means++', init_size=None, max_iter=100,\n",
       "                                 max_no_improvement=10, n_clusters=8, n_init=3,\n",
       "                                 random_state=1, reassignment_ratio=0.01,\n",
       "                                 tol=0.0, verbose=0))],\n",
       "         verbose=False)"
      ]
     },
     "execution_count": 17,
     "metadata": {},
     "output_type": "execute_result"
    }
   ],
   "source": [
    "feature_pipeline.fit(train_df_2)"
   ]
  },
  {
   "cell_type": "markdown",
   "metadata": {},
   "source": [
    "### Extract model"
   ]
  },
  {
   "cell_type": "code",
   "execution_count": 18,
   "metadata": {},
   "outputs": [],
   "source": [
    "feat_selection_kmeans = feature_pipeline['kmeans_modeller']\n"
   ]
  },
  {
   "cell_type": "markdown",
   "metadata": {},
   "source": [
    "### Extract transformed dataframe"
   ]
  },
  {
   "cell_type": "code",
   "execution_count": 19,
   "metadata": {},
   "outputs": [],
   "source": [
    "transformed_train_df_2 = feature_pipeline['processor'].fit_transform(train_df_2)"
   ]
  },
  {
   "cell_type": "markdown",
   "metadata": {},
   "source": [
    "### Scoring the clustering methods"
   ]
  },
  {
   "cell_type": "markdown",
   "metadata": {},
   "source": [
    "#### Kmeans"
   ]
  },
  {
   "cell_type": "code",
   "execution_count": 20,
   "metadata": {},
   "outputs": [
    {
     "data": {
      "text/plain": [
       "0.21168536423914605"
      ]
     },
     "execution_count": 20,
     "metadata": {},
     "output_type": "execute_result"
    }
   ],
   "source": [
    "silhouette_score(transformed_train_df_2, feat_selection_kmeans.labels_, metric='euclidean',sample_size=int(train_df_2.shape[0]*0.3))"
   ]
  },
  {
   "cell_type": "code",
   "execution_count": 22,
   "metadata": {},
   "outputs": [
    {
     "data": {
      "text/plain": [
       "219826.0400121672"
      ]
     },
     "execution_count": 22,
     "metadata": {},
     "output_type": "execute_result"
    }
   ],
   "source": [
    "calinski_harabasz_score(transformed_train_df_2, feat_selection_kmeans.labels_)"
   ]
  },
  {
   "cell_type": "code",
   "execution_count": 23,
   "metadata": {},
   "outputs": [
    {
     "data": {
      "text/plain": [
       "array([0, 1, 2, 3, 4, 5, 6, 7], dtype=int32)"
      ]
     },
     "execution_count": 23,
     "metadata": {},
     "output_type": "execute_result"
    }
   ],
   "source": [
    "kmeans_classes = np.unique(feat_selection_kmeans.labels_)\n",
    "kmeans_classes"
   ]
  },
  {
   "cell_type": "code",
   "execution_count": 24,
   "metadata": {},
   "outputs": [
    {
     "name": "stdout",
     "output_type": "stream",
     "text": [
      "Stored 'centers' (ndarray)\n"
     ]
    }
   ],
   "source": [
    "centers=feat_selection_kmeans.cluster_centers_\n",
    "\n",
    "### UNCOMMENT LOGIC BELOW ON FIRST RUN###\n",
    "%store centers\n",
    "\n",
    "#store -r centers"
   ]
  },
  {
   "cell_type": "code",
   "execution_count": 25,
   "metadata": {},
   "outputs": [
    {
     "data": {
      "text/plain": [
       "(8, 3)"
      ]
     },
     "execution_count": 25,
     "metadata": {},
     "output_type": "execute_result"
    }
   ],
   "source": [
    "centers.shape"
   ]
  },
  {
   "cell_type": "code",
   "execution_count": 27,
   "metadata": {},
   "outputs": [
    {
     "data": {
      "text/plain": [
       "array([[ 2.28362118e-01,  7.48000810e-01,  1.02494212e+00],\n",
       "       [-1.21867730e+00, -8.69793974e-01, -2.40404941e-01],\n",
       "       [-2.58821271e+00, -6.20277267e-02,  6.74067263e-02],\n",
       "       [ 5.42469568e-01,  2.28491356e-01, -1.93333940e-01],\n",
       "       [-1.85289207e-01, -4.88769529e-05, -1.75603318e+00],\n",
       "       [ 4.88057919e-01, -5.88692384e-01,  1.18063576e+00],\n",
       "       [ 2.33997403e-01,  1.77828271e+00, -2.11741623e-01],\n",
       "       [ 3.35059674e-01, -9.42984785e-01, -2.11734860e-01]])"
      ]
     },
     "execution_count": 27,
     "metadata": {},
     "output_type": "execute_result"
    }
   ],
   "source": [
    "centers\n"
   ]
  },
  {
   "cell_type": "code",
   "execution_count": null,
   "metadata": {},
   "outputs": [],
   "source": []
  }
 ],
 "metadata": {
  "instance_type": "ml.m5.2xlarge",
  "kernelspec": {
   "display_name": "Python 3 (Data Science)",
   "language": "python",
   "name": "python3__SAGEMAKER_INTERNAL__arn:aws:sagemaker:us-east-1:081325390199:image/datascience-1.0"
  },
  "language_info": {
   "codemirror_mode": {
    "name": "ipython",
    "version": 3
   },
   "file_extension": ".py",
   "mimetype": "text/x-python",
   "name": "python",
   "nbconvert_exporter": "python",
   "pygments_lexer": "ipython3",
   "version": "3.7.10"
  }
 },
 "nbformat": 4,
 "nbformat_minor": 4
}
