{
 "cells": [
  {
   "cell_type": "markdown",
   "source": [
    "# Dependencies"
   ],
   "metadata": {
    "collapsed": false,
    "pycharm": {
     "name": "#%% md\n"
    }
   }
  },
  {
   "cell_type": "code",
   "execution_count": 77,
   "outputs": [],
   "source": [
    "import numpy as np\n",
    "import pandas as pd\n",
    "import sqlite3\n",
    "\n",
    "import matplotlib.pyplot as plt"
   ],
   "metadata": {
    "collapsed": false,
    "pycharm": {
     "name": "#%%\n"
    }
   }
  },
  {
   "cell_type": "code",
   "execution_count": 164,
   "outputs": [],
   "source": [
    "from sklearn.preprocessing import StandardScaler, OneHotEncoder\n",
    "from sklearn.pipeline import Pipeline\n",
    "from sklearn.compose import ColumnTransformer\n",
    "from sklearn.cluster import KMeans\n",
    "from sklearn.metrics import silhouette_score, calinski_harabasz_score\n",
    "from sklearn.impute import SimpleImputer"
   ],
   "metadata": {
    "collapsed": false,
    "pycharm": {
     "name": "#%%\n"
    }
   }
  },
  {
   "cell_type": "code",
   "execution_count": 109,
   "outputs": [],
   "source": [
    "import scipy as sp"
   ],
   "metadata": {
    "collapsed": false,
    "pycharm": {
     "name": "#%%\n"
    }
   }
  },
  {
   "cell_type": "code",
   "execution_count": 127,
   "outputs": [],
   "source": [
    "np.random.seed(23)"
   ],
   "metadata": {
    "collapsed": false,
    "pycharm": {
     "name": "#%%\n"
    }
   }
  },
  {
   "cell_type": "markdown",
   "source": [
    "# Get data"
   ],
   "metadata": {
    "collapsed": false,
    "pycharm": {
     "name": "#%% md\n"
    }
   }
  },
  {
   "cell_type": "code",
   "execution_count": 4,
   "outputs": [],
   "source": [
    "rawDf = pd.read_csv('./data/millionsongdataset_sample.csv')"
   ],
   "metadata": {
    "collapsed": false,
    "pycharm": {
     "name": "#%%\n"
    }
   }
  },
  {
   "cell_type": "code",
   "execution_count": 8,
   "outputs": [
    {
     "data": {
      "text/plain": "(8234, 53)"
     },
     "execution_count": 8,
     "metadata": {},
     "output_type": "execute_result"
    }
   ],
   "source": [
    "rawDf.shape"
   ],
   "metadata": {
    "collapsed": false,
    "pycharm": {
     "name": "#%%\n"
    }
   }
  },
  {
   "cell_type": "code",
   "execution_count": 9,
   "outputs": [
    {
     "data": {
      "text/plain": "analysis_sample_rate                int64\naudio_md5                          object\ndanceability                      float64\nduration                          float64\nend_of_fade_in                    float64\nenergy                            float64\nidx_bars_confidence                 int64\nidx_bars_start                      int64\nidx_beats_confidence                int64\nidx_beats_start                     int64\nidx_sections_confidence             int64\nidx_sections_start                  int64\nidx_segments_confidence             int64\nidx_segments_loudness_max           int64\nidx_segments_loudness_max_time      int64\nidx_segments_loudness_start         int64\nidx_segments_pitches                int64\nidx_segments_start                  int64\nidx_segments_timbre                 int64\nidx_tatums_confidence               int64\nidx_tatums_start                    int64\nkey                                 int64\nkey_confidence                    float64\nloudness                          float64\nmode                                int64\nmode_confidence                   float64\nstart_of_fade_out                 float64\ntempo                             float64\ntime_signature                      int64\ntime_signature_confidence         float64\ntrack_id                           object\nanalyzer_version                   object\nartist_7digitalid                   int64\nartist_familiarity                float64\nartist_hotttnesss                 float64\nartist_id                          object\nartist_latitude                   float64\nartist_location                    object\nartist_longitude                  float64\nartist_mbid                        object\nartist_name                        object\nartist_playmeid                     int64\ngenre                              object\nidx_artist_terms                    int64\nidx_similar_artists                 int64\nrelease                            object\nrelease_7digitalid                  int64\nsong_hotttnesss                   float64\nsong_id                            object\ntitle                              object\ntrack_7digitalid                    int64\nidx_artist_mbtags                   int64\nyear                                int64\ndtype: object"
     },
     "execution_count": 9,
     "metadata": {},
     "output_type": "execute_result"
    }
   ],
   "source": [
    "rawDf.dtypes"
   ],
   "metadata": {
    "collapsed": false,
    "pycharm": {
     "name": "#%%\n"
    }
   }
  },
  {
   "cell_type": "code",
   "execution_count": 20,
   "outputs": [
    {
     "data": {
      "text/plain": "       analysis_sample_rate  danceability     duration  end_of_fade_in  \\\ncount                8234.0        8234.0  8234.000000     8234.000000   \nmean                22050.0           0.0   238.290455        0.758585   \nstd                     0.0           0.0   113.471704        1.864888   \nmin                 22050.0           0.0     1.044440        0.000000   \n25%                 22050.0           0.0   175.542400        0.000000   \n50%                 22050.0           0.0   222.680360        0.200000   \n75%                 22050.0           0.0   276.335875        0.421000   \nmax                 22050.0           0.0  1819.767710       43.119000   \n\n       energy  idx_bars_confidence  idx_bars_start  idx_beats_confidence  \\\ncount  8234.0               8234.0          8234.0                8234.0   \nmean      0.0                  0.0             0.0                   0.0   \nstd       0.0                  0.0             0.0                   0.0   \nmin       0.0                  0.0             0.0                   0.0   \n25%       0.0                  0.0             0.0                   0.0   \n50%       0.0                  0.0             0.0                   0.0   \n75%       0.0                  0.0             0.0                   0.0   \nmax       0.0                  0.0             0.0                   0.0   \n\n       idx_beats_start  idx_sections_confidence  ...  artist_latitude  \\\ncount           8234.0                   8234.0  ...      3087.000000   \nmean               0.0                      0.0  ...        37.223204   \nstd                0.0                      0.0  ...        15.515183   \nmin                0.0                      0.0  ...       -41.280540   \n25%                0.0                      0.0  ...        33.748310   \n50%                0.0                      0.0  ...        39.102950   \n75%                0.0                      0.0  ...        43.648560   \nmax                0.0                      0.0  ...        69.651020   \n\n       artist_longitude  artist_playmeid  idx_artist_terms  \\\ncount       3087.000000      8234.000000            8234.0   \nmean         -63.716463     25533.738766               0.0   \nstd           51.054064     43834.952397               0.0   \nmin         -162.436500        -1.000000               0.0   \n25%          -93.291560        -1.000000               0.0   \n50%          -80.112780      2175.000000               0.0   \n75%           -8.936895     34172.000000               0.0   \nmax          174.767140    242965.000000               0.0   \n\n       idx_similar_artists  release_7digitalid  song_hotttnesss  \\\ncount               8234.0         8234.000000      4629.000000   \nmean                   0.0       370668.458465         0.341856   \nstd                    0.0       236997.592237         0.247268   \nmin                    0.0           63.000000         0.000000   \n25%                    0.0       172858.000000         0.000000   \n50%                    0.0       331322.000000         0.360371   \n75%                    0.0       574072.500000         0.536789   \nmax                    0.0       823599.000000         1.000000   \n\n       track_7digitalid  idx_artist_mbtags         year  \ncount      8.234000e+03             8234.0  8234.000000  \nmean       4.119877e+06                0.0   928.972188  \nstd        2.630712e+06                0.0   996.247833  \nmin        8.450000e+02                0.0     0.000000  \n25%        1.888023e+06                0.0     0.000000  \n50%        3.732560e+06                0.0     0.000000  \n75%        6.376102e+06                0.0  2000.000000  \nmax        9.090443e+06                0.0  2010.000000  \n\n[8 rows x 42 columns]",
      "text/html": "<div>\n<style scoped>\n    .dataframe tbody tr th:only-of-type {\n        vertical-align: middle;\n    }\n\n    .dataframe tbody tr th {\n        vertical-align: top;\n    }\n\n    .dataframe thead th {\n        text-align: right;\n    }\n</style>\n<table border=\"1\" class=\"dataframe\">\n  <thead>\n    <tr style=\"text-align: right;\">\n      <th></th>\n      <th>analysis_sample_rate</th>\n      <th>danceability</th>\n      <th>duration</th>\n      <th>end_of_fade_in</th>\n      <th>energy</th>\n      <th>idx_bars_confidence</th>\n      <th>idx_bars_start</th>\n      <th>idx_beats_confidence</th>\n      <th>idx_beats_start</th>\n      <th>idx_sections_confidence</th>\n      <th>...</th>\n      <th>artist_latitude</th>\n      <th>artist_longitude</th>\n      <th>artist_playmeid</th>\n      <th>idx_artist_terms</th>\n      <th>idx_similar_artists</th>\n      <th>release_7digitalid</th>\n      <th>song_hotttnesss</th>\n      <th>track_7digitalid</th>\n      <th>idx_artist_mbtags</th>\n      <th>year</th>\n    </tr>\n  </thead>\n  <tbody>\n    <tr>\n      <th>count</th>\n      <td>8234.0</td>\n      <td>8234.0</td>\n      <td>8234.000000</td>\n      <td>8234.000000</td>\n      <td>8234.0</td>\n      <td>8234.0</td>\n      <td>8234.0</td>\n      <td>8234.0</td>\n      <td>8234.0</td>\n      <td>8234.0</td>\n      <td>...</td>\n      <td>3087.000000</td>\n      <td>3087.000000</td>\n      <td>8234.000000</td>\n      <td>8234.0</td>\n      <td>8234.0</td>\n      <td>8234.000000</td>\n      <td>4629.000000</td>\n      <td>8.234000e+03</td>\n      <td>8234.0</td>\n      <td>8234.000000</td>\n    </tr>\n    <tr>\n      <th>mean</th>\n      <td>22050.0</td>\n      <td>0.0</td>\n      <td>238.290455</td>\n      <td>0.758585</td>\n      <td>0.0</td>\n      <td>0.0</td>\n      <td>0.0</td>\n      <td>0.0</td>\n      <td>0.0</td>\n      <td>0.0</td>\n      <td>...</td>\n      <td>37.223204</td>\n      <td>-63.716463</td>\n      <td>25533.738766</td>\n      <td>0.0</td>\n      <td>0.0</td>\n      <td>370668.458465</td>\n      <td>0.341856</td>\n      <td>4.119877e+06</td>\n      <td>0.0</td>\n      <td>928.972188</td>\n    </tr>\n    <tr>\n      <th>std</th>\n      <td>0.0</td>\n      <td>0.0</td>\n      <td>113.471704</td>\n      <td>1.864888</td>\n      <td>0.0</td>\n      <td>0.0</td>\n      <td>0.0</td>\n      <td>0.0</td>\n      <td>0.0</td>\n      <td>0.0</td>\n      <td>...</td>\n      <td>15.515183</td>\n      <td>51.054064</td>\n      <td>43834.952397</td>\n      <td>0.0</td>\n      <td>0.0</td>\n      <td>236997.592237</td>\n      <td>0.247268</td>\n      <td>2.630712e+06</td>\n      <td>0.0</td>\n      <td>996.247833</td>\n    </tr>\n    <tr>\n      <th>min</th>\n      <td>22050.0</td>\n      <td>0.0</td>\n      <td>1.044440</td>\n      <td>0.000000</td>\n      <td>0.0</td>\n      <td>0.0</td>\n      <td>0.0</td>\n      <td>0.0</td>\n      <td>0.0</td>\n      <td>0.0</td>\n      <td>...</td>\n      <td>-41.280540</td>\n      <td>-162.436500</td>\n      <td>-1.000000</td>\n      <td>0.0</td>\n      <td>0.0</td>\n      <td>63.000000</td>\n      <td>0.000000</td>\n      <td>8.450000e+02</td>\n      <td>0.0</td>\n      <td>0.000000</td>\n    </tr>\n    <tr>\n      <th>25%</th>\n      <td>22050.0</td>\n      <td>0.0</td>\n      <td>175.542400</td>\n      <td>0.000000</td>\n      <td>0.0</td>\n      <td>0.0</td>\n      <td>0.0</td>\n      <td>0.0</td>\n      <td>0.0</td>\n      <td>0.0</td>\n      <td>...</td>\n      <td>33.748310</td>\n      <td>-93.291560</td>\n      <td>-1.000000</td>\n      <td>0.0</td>\n      <td>0.0</td>\n      <td>172858.000000</td>\n      <td>0.000000</td>\n      <td>1.888023e+06</td>\n      <td>0.0</td>\n      <td>0.000000</td>\n    </tr>\n    <tr>\n      <th>50%</th>\n      <td>22050.0</td>\n      <td>0.0</td>\n      <td>222.680360</td>\n      <td>0.200000</td>\n      <td>0.0</td>\n      <td>0.0</td>\n      <td>0.0</td>\n      <td>0.0</td>\n      <td>0.0</td>\n      <td>0.0</td>\n      <td>...</td>\n      <td>39.102950</td>\n      <td>-80.112780</td>\n      <td>2175.000000</td>\n      <td>0.0</td>\n      <td>0.0</td>\n      <td>331322.000000</td>\n      <td>0.360371</td>\n      <td>3.732560e+06</td>\n      <td>0.0</td>\n      <td>0.000000</td>\n    </tr>\n    <tr>\n      <th>75%</th>\n      <td>22050.0</td>\n      <td>0.0</td>\n      <td>276.335875</td>\n      <td>0.421000</td>\n      <td>0.0</td>\n      <td>0.0</td>\n      <td>0.0</td>\n      <td>0.0</td>\n      <td>0.0</td>\n      <td>0.0</td>\n      <td>...</td>\n      <td>43.648560</td>\n      <td>-8.936895</td>\n      <td>34172.000000</td>\n      <td>0.0</td>\n      <td>0.0</td>\n      <td>574072.500000</td>\n      <td>0.536789</td>\n      <td>6.376102e+06</td>\n      <td>0.0</td>\n      <td>2000.000000</td>\n    </tr>\n    <tr>\n      <th>max</th>\n      <td>22050.0</td>\n      <td>0.0</td>\n      <td>1819.767710</td>\n      <td>43.119000</td>\n      <td>0.0</td>\n      <td>0.0</td>\n      <td>0.0</td>\n      <td>0.0</td>\n      <td>0.0</td>\n      <td>0.0</td>\n      <td>...</td>\n      <td>69.651020</td>\n      <td>174.767140</td>\n      <td>242965.000000</td>\n      <td>0.0</td>\n      <td>0.0</td>\n      <td>823599.000000</td>\n      <td>1.000000</td>\n      <td>9.090443e+06</td>\n      <td>0.0</td>\n      <td>2010.000000</td>\n    </tr>\n  </tbody>\n</table>\n<p>8 rows × 42 columns</p>\n</div>"
     },
     "execution_count": 20,
     "metadata": {},
     "output_type": "execute_result"
    }
   ],
   "source": [
    "rawDf.describe()"
   ],
   "metadata": {
    "collapsed": false,
    "pycharm": {
     "name": "#%%\n"
    }
   }
  },
  {
   "cell_type": "markdown",
   "source": [
    "Some of these columns should not be numeric. I hope this is not a problem with processing."
   ],
   "metadata": {
    "collapsed": false,
    "pycharm": {
     "name": "#%% md\n"
    }
   }
  },
  {
   "cell_type": "code",
   "execution_count": 26,
   "outputs": [
    {
     "data": {
      "text/plain": "analysis_sample_rate                 0\naudio_md5                            0\ndanceability                      8234\nduration                             0\nend_of_fade_in                    2536\nenergy                            8234\nidx_bars_confidence               8234\nidx_bars_start                    8234\nidx_beats_confidence              8234\nidx_beats_start                   8234\nidx_sections_confidence           8234\nidx_sections_start                8234\nidx_segments_confidence           8234\nidx_segments_loudness_max         8234\nidx_segments_loudness_max_time    8234\nidx_segments_loudness_start       8234\nidx_segments_pitches              8234\nidx_segments_start                8234\nidx_segments_timbre               8234\nidx_tatums_confidence             8234\nidx_tatums_start                  8234\nkey                                997\nkey_confidence                     433\nloudness                             0\nmode                              2569\nmode_confidence                    224\nstart_of_fade_out                    0\ntempo                               19\ntime_signature                       2\ntime_signature_confidence         1776\ntrack_id                             0\nanalyzer_version                     0\nartist_7digitalid                    0\nartist_familiarity                  16\nartist_hotttnesss                  413\nartist_id                            0\nartist_latitude                      0\nartist_location                      0\nartist_longitude                     0\nartist_mbid                          0\nartist_name                          0\nartist_playmeid                      0\ngenre                                0\nidx_artist_terms                  8234\nidx_similar_artists               8234\nrelease                              0\nrelease_7digitalid                   0\nsong_hotttnesss                   1189\nsong_id                              0\ntitle                                0\ntrack_7digitalid                     0\nidx_artist_mbtags                 8234\nyear                              4404\ndtype: int64"
     },
     "execution_count": 26,
     "metadata": {},
     "output_type": "execute_result"
    }
   ],
   "source": [
    "(rawDf==0).sum()"
   ],
   "metadata": {
    "collapsed": false,
    "pycharm": {
     "name": "#%%\n"
    }
   }
  },
  {
   "cell_type": "markdown",
   "source": [
    "Many are just empty."
   ],
   "metadata": {
    "collapsed": false
   }
  },
  {
   "cell_type": "markdown",
   "source": [
    "## EDA"
   ],
   "metadata": {
    "collapsed": false,
    "pycharm": {
     "name": "#%% md\n"
    }
   }
  },
  {
   "cell_type": "markdown",
   "source": [
    "### Distribution of some features"
   ],
   "metadata": {
    "collapsed": false
   }
  },
  {
   "cell_type": "code",
   "execution_count": 78,
   "outputs": [
    {
     "data": {
      "text/plain": "(array([2.000e+00, 3.000e+00, 7.000e+00, 3.200e+01, 1.180e+02, 3.120e+02,\n        9.080e+02, 2.417e+03, 3.764e+03, 6.710e+02]),\n array([-51.643 , -46.4221, -41.2012, -35.9803, -30.7594, -25.5385,\n        -20.3176, -15.0967,  -9.8758,  -4.6549,   0.566 ]),\n <BarContainer object of 10 artists>)"
     },
     "execution_count": 78,
     "metadata": {},
     "output_type": "execute_result"
    },
    {
     "data": {
      "text/plain": "<Figure size 432x288 with 1 Axes>",
      "image/png": "[encoded data removed]"
     },
     "metadata": {
      "needs_background": "light"
     },
     "output_type": "display_data"
    }
   ],
   "source": [
    "plt.hist(rawDf['loudness'])"
   ],
   "metadata": {
    "collapsed": false,
    "pycharm": {
     "name": "#%%\n"
    }
   }
  },
  {
   "cell_type": "code",
   "execution_count": 80,
   "outputs": [
    {
     "data": {
      "text/plain": "(array([  21.,   89.,  446., 2304., 2397., 1635.,  889.,  350.,   80.,\n          23.]),\n array([  0.    ,  26.2828,  52.5656,  78.8484, 105.1312, 131.414 ,\n        157.6968, 183.9796, 210.2624, 236.5452, 262.828 ]),\n <BarContainer object of 10 artists>)"
     },
     "execution_count": 80,
     "metadata": {},
     "output_type": "execute_result"
    },
    {
     "data": {
      "text/plain": "<Figure size 432x288 with 1 Axes>",
      "image/png": "[encoded data removed]"
     },
     "metadata": {
      "needs_background": "light"
     },
     "output_type": "display_data"
    }
   ],
   "source": [
    "plt.hist(rawDf['tempo'])"
   ],
   "metadata": {
    "collapsed": false,
    "pycharm": {
     "name": "#%%\n"
    }
   }
  },
  {
   "cell_type": "code",
   "execution_count": 81,
   "outputs": [
    {
     "data": {
      "text/plain": "(array([4404.,    0.,    0.,    0.,    0.,    0.,    0.,    0.,    0.,\n        3830.]),\n array([   0.,  201.,  402.,  603.,  804., 1005., 1206., 1407., 1608.,\n        1809., 2010.]),\n <BarContainer object of 10 artists>)"
     },
     "execution_count": 81,
     "metadata": {},
     "output_type": "execute_result"
    },
    {
     "data": {
      "text/plain": "<Figure size 432x288 with 1 Axes>",
      "image/png": "[encoded data removed]"
     },
     "metadata": {
      "needs_background": "light"
     },
     "output_type": "display_data"
    }
   ],
   "source": [
    "plt.hist(rawDf['year'])"
   ],
   "metadata": {
    "collapsed": false,
    "pycharm": {
     "name": "#%%\n"
    }
   }
  },
  {
   "cell_type": "code",
   "execution_count": 84,
   "outputs": [
    {
     "data": {
      "text/plain": "      loudness    tempo            track_id  artist_familiarity  \\\n0      -12.446   93.331  TRAGAAF128F9338911            0.492441   \n1       -8.925  129.493  TRAGACJ128F427118C            0.476969   \n5      -12.469  110.190  TRAGAHW12903CA6DBE            0.475458   \n8       -3.761  190.922  TRAGANK128F428A5CD            0.850728   \n10      -4.625  185.409  TRAGBHV128F4295074            0.729149   \n...        ...      ...                 ...                 ...   \n8224   -12.673  162.133  TRBIJFO128F42990C5            0.598237   \n8226    -8.065   90.050  TRBIJIP128F9334953            0.334543   \n8227   -11.756  119.271  TRBIJKN12903CBF11B            0.450646   \n8231   -12.087  118.123  TRBIJNK128F93093EC            0.433508   \n8232   -12.574  137.663  TRBIJRN128F425F3DD            0.334457   \n\n      artist_hotttnesss              artist_id                  artist_name  \\\n0              0.338947  b'ARY1K701187B9A43A9'               b'Joe McBride'   \n1              0.358285  b'ARC28SN1187B989049'            b'Greater Vision'   \n5              0.309139  b'ARHDHOX122988F500E'       b'Hot Club Of Detroit'   \n8              0.542055  b'ARF84A41187B9A34E7'                    b'Rancid'   \n10             0.522278  b'AR8ZQ9T1187FB56FE5'                b'Goldfinger'   \n...                 ...                    ...                          ...   \n8224           0.363688  b'ARUUP4L1187B9B72EB'            b'Diamanda Galas'   \n8226           0.049034  b'AROIHOI122988FEB8E'          b'Mario Rosenstock'   \n8227           0.331535  b'ARQ91R31187FB38A88'             b'Grandpa Jones'   \n8231           0.289903  b'ARS1DCR1187B9A4A56'             b'Winston Reedy'   \n8232           0.216829  b'ARAGMIV11F4C843F78'  b'Myrick \"Freeze\" Guillory'   \n\n     genre  song_hotttnesss             song_id  \\\n0      b''         0.375984  SOFUWDG12A8C142F6D   \n1      b''         0.000000  SONJXBM12A8C13C358   \n5      b''              NaN  SOQTSEB12AB01884A0   \n8      b''         0.616797  SOHLRVJ12A8C13A9A2   \n10     b''         0.604789  SOHJYGD12A8C13CF7F   \n...    ...              ...                 ...   \n8224   b''         0.323112  SOILDRV12A8C13EB77   \n8226   b''              NaN  SOJARSR12AB0184939   \n8227   b''         0.000000  SOUWMIW12AB0184748   \n8231   b''              NaN  SOJZLAJ12AB017E8A2   \n8232   b''         0.000000  SORZSCJ12A8C132446   \n\n                                              title  year  \n0                     b'This Is How A Heart Breaks'     0  \n1     b\"Heaven's Hero (Featuring Champion Of Love)\"     0  \n5                                     b'Night Time'     0  \n8                     b'Black Lung (Album Version)'     0  \n10                                      b\"I'm Down\"     0  \n...                                             ...   ...  \n8224                      b'Dark End Of The Street'     0  \n8226                 b'Munster Song (Best of 2009)'     0  \n8227                               b'Down In Dixie'     0  \n8231                             b'Sentimental Man'     0  \n8232                           b'Zydeco In D-Minor'     0  \n\n[4404 rows x 12 columns]",
      "text/html": "<div>\n<style scoped>\n    .dataframe tbody tr th:only-of-type {\n        vertical-align: middle;\n    }\n\n    .dataframe tbody tr th {\n        vertical-align: top;\n    }\n\n    .dataframe thead th {\n        text-align: right;\n    }\n</style>\n<table border=\"1\" class=\"dataframe\">\n  <thead>\n    <tr style=\"text-align: right;\">\n      <th></th>\n      <th>loudness</th>\n      <th>tempo</th>\n      <th>track_id</th>\n      <th>artist_familiarity</th>\n      <th>artist_hotttnesss</th>\n      <th>artist_id</th>\n      <th>artist_name</th>\n      <th>genre</th>\n      <th>song_hotttnesss</th>\n      <th>song_id</th>\n      <th>title</th>\n      <th>year</th>\n    </tr>\n  </thead>\n  <tbody>\n    <tr>\n      <th>0</th>\n      <td>-12.446</td>\n      <td>93.331</td>\n      <td>TRAGAAF128F9338911</td>\n      <td>0.492441</td>\n      <td>0.338947</td>\n      <td>b'ARY1K701187B9A43A9'</td>\n      <td>b'Joe McBride'</td>\n      <td>b''</td>\n      <td>0.375984</td>\n      <td>SOFUWDG12A8C142F6D</td>\n      <td>b'This Is How A Heart Breaks'</td>\n      <td>0</td>\n    </tr>\n    <tr>\n      <th>1</th>\n      <td>-8.925</td>\n      <td>129.493</td>\n      <td>TRAGACJ128F427118C</td>\n      <td>0.476969</td>\n      <td>0.358285</td>\n      <td>b'ARC28SN1187B989049'</td>\n      <td>b'Greater Vision'</td>\n      <td>b''</td>\n      <td>0.000000</td>\n      <td>SONJXBM12A8C13C358</td>\n      <td>b\"Heaven's Hero (Featuring Champion Of Love)\"</td>\n      <td>0</td>\n    </tr>\n    <tr>\n      <th>5</th>\n      <td>-12.469</td>\n      <td>110.190</td>\n      <td>TRAGAHW12903CA6DBE</td>\n      <td>0.475458</td>\n      <td>0.309139</td>\n      <td>b'ARHDHOX122988F500E'</td>\n      <td>b'Hot Club Of Detroit'</td>\n      <td>b''</td>\n      <td>NaN</td>\n      <td>SOQTSEB12AB01884A0</td>\n      <td>b'Night Time'</td>\n      <td>0</td>\n    </tr>\n    <tr>\n      <th>8</th>\n      <td>-3.761</td>\n      <td>190.922</td>\n      <td>TRAGANK128F428A5CD</td>\n      <td>0.850728</td>\n      <td>0.542055</td>\n      <td>b'ARF84A41187B9A34E7'</td>\n      <td>b'Rancid'</td>\n      <td>b''</td>\n      <td>0.616797</td>\n      <td>SOHLRVJ12A8C13A9A2</td>\n      <td>b'Black Lung (Album Version)'</td>\n      <td>0</td>\n    </tr>\n    <tr>\n      <th>10</th>\n      <td>-4.625</td>\n      <td>185.409</td>\n      <td>TRAGBHV128F4295074</td>\n      <td>0.729149</td>\n      <td>0.522278</td>\n      <td>b'AR8ZQ9T1187FB56FE5'</td>\n      <td>b'Goldfinger'</td>\n      <td>b''</td>\n      <td>0.604789</td>\n      <td>SOHJYGD12A8C13CF7F</td>\n      <td>b\"I'm Down\"</td>\n      <td>0</td>\n    </tr>\n    <tr>\n      <th>...</th>\n      <td>...</td>\n      <td>...</td>\n      <td>...</td>\n      <td>...</td>\n      <td>...</td>\n      <td>...</td>\n      <td>...</td>\n      <td>...</td>\n      <td>...</td>\n      <td>...</td>\n      <td>...</td>\n      <td>...</td>\n    </tr>\n    <tr>\n      <th>8224</th>\n      <td>-12.673</td>\n      <td>162.133</td>\n      <td>TRBIJFO128F42990C5</td>\n      <td>0.598237</td>\n      <td>0.363688</td>\n      <td>b'ARUUP4L1187B9B72EB'</td>\n      <td>b'Diamanda Galas'</td>\n      <td>b''</td>\n      <td>0.323112</td>\n      <td>SOILDRV12A8C13EB77</td>\n      <td>b'Dark End Of The Street'</td>\n      <td>0</td>\n    </tr>\n    <tr>\n      <th>8226</th>\n      <td>-8.065</td>\n      <td>90.050</td>\n      <td>TRBIJIP128F9334953</td>\n      <td>0.334543</td>\n      <td>0.049034</td>\n      <td>b'AROIHOI122988FEB8E'</td>\n      <td>b'Mario Rosenstock'</td>\n      <td>b''</td>\n      <td>NaN</td>\n      <td>SOJARSR12AB0184939</td>\n      <td>b'Munster Song (Best of 2009)'</td>\n      <td>0</td>\n    </tr>\n    <tr>\n      <th>8227</th>\n      <td>-11.756</td>\n      <td>119.271</td>\n      <td>TRBIJKN12903CBF11B</td>\n      <td>0.450646</td>\n      <td>0.331535</td>\n      <td>b'ARQ91R31187FB38A88'</td>\n      <td>b'Grandpa Jones'</td>\n      <td>b''</td>\n      <td>0.000000</td>\n      <td>SOUWMIW12AB0184748</td>\n      <td>b'Down In Dixie'</td>\n      <td>0</td>\n    </tr>\n    <tr>\n      <th>8231</th>\n      <td>-12.087</td>\n      <td>118.123</td>\n      <td>TRBIJNK128F93093EC</td>\n      <td>0.433508</td>\n      <td>0.289903</td>\n      <td>b'ARS1DCR1187B9A4A56'</td>\n      <td>b'Winston Reedy'</td>\n      <td>b''</td>\n      <td>NaN</td>\n      <td>SOJZLAJ12AB017E8A2</td>\n      <td>b'Sentimental Man'</td>\n      <td>0</td>\n    </tr>\n    <tr>\n      <th>8232</th>\n      <td>-12.574</td>\n      <td>137.663</td>\n      <td>TRBIJRN128F425F3DD</td>\n      <td>0.334457</td>\n      <td>0.216829</td>\n      <td>b'ARAGMIV11F4C843F78'</td>\n      <td>b'Myrick \"Freeze\" Guillory'</td>\n      <td>b''</td>\n      <td>0.000000</td>\n      <td>SORZSCJ12A8C132446</td>\n      <td>b'Zydeco In D-Minor'</td>\n      <td>0</td>\n    </tr>\n  </tbody>\n</table>\n<p>4404 rows × 12 columns</p>\n</div>"
     },
     "execution_count": 84,
     "metadata": {},
     "output_type": "execute_result"
    }
   ],
   "source": [
    "rawDf[rawDf['year'] < 250]"
   ],
   "metadata": {
    "collapsed": false,
    "pycharm": {
     "name": "#%%\n"
    }
   }
  },
  {
   "cell_type": "code",
   "execution_count": 110,
   "outputs": [
    {
     "data": {
      "text/plain": "DescribeResult(nobs=8234, minmax=(0, 2010), mean=928.9721884867622, variance=992509.7454914566, skewness=0.13995499490956384, kurtosis=-1.980157987076002)"
     },
     "execution_count": 110,
     "metadata": {},
     "output_type": "execute_result"
    }
   ],
   "source": [
    "sp.stats.describe(rawDf['year'])"
   ],
   "metadata": {
    "collapsed": false,
    "pycharm": {
     "name": "#%%\n"
    }
   }
  },
  {
   "cell_type": "code",
   "execution_count": 111,
   "outputs": [
    {
     "data": {
      "text/plain": "(4404, 12)"
     },
     "execution_count": 111,
     "metadata": {},
     "output_type": "execute_result"
    }
   ],
   "source": [
    "rawDf[rawDf['year']<=1900].shape"
   ],
   "metadata": {
    "collapsed": false,
    "pycharm": {
     "name": "#%%\n"
    }
   }
  },
  {
   "cell_type": "markdown",
   "source": [
    "Half of the sample set is before the year 1900"
   ],
   "metadata": {
    "collapsed": false
   }
  },
  {
   "cell_type": "code",
   "execution_count": 163,
   "outputs": [
    {
     "data": {
      "text/plain": "analysis_sample_rate                 0\naudio_md5                            0\ndanceability                         0\nduration                             0\nend_of_fade_in                       0\nenergy                               0\nidx_bars_confidence                  0\nidx_bars_start                       0\nidx_beats_confidence                 0\nidx_beats_start                      0\nidx_sections_confidence              0\nidx_sections_start                   0\nidx_segments_confidence              0\nidx_segments_loudness_max            0\nidx_segments_loudness_max_time       0\nidx_segments_loudness_start          0\nidx_segments_pitches                 0\nidx_segments_start                   0\nidx_segments_timbre                  0\nidx_tatums_confidence                0\nidx_tatums_start                     0\nkey                                  0\nkey_confidence                       0\nloudness                             0\nmode                                 0\nmode_confidence                      0\nstart_of_fade_out                    0\ntempo                                0\ntime_signature                       0\ntime_signature_confidence            0\ntrack_id                             0\nanalyzer_version                     0\nartist_7digitalid                    0\nartist_familiarity                   4\nartist_hotttnesss                    0\nartist_id                            0\nartist_latitude                   5147\nartist_location                      0\nartist_longitude                  5147\nartist_mbid                          0\nartist_name                          0\nartist_playmeid                      0\ngenre                                0\nidx_artist_terms                     0\nidx_similar_artists                  0\nrelease                              0\nrelease_7digitalid                   0\nsong_hotttnesss                   3605\nsong_id                              0\ntitle                                0\ntrack_7digitalid                     0\nidx_artist_mbtags                    0\nyear                                 0\ndtype: int64"
     },
     "execution_count": 163,
     "metadata": {},
     "output_type": "execute_result"
    }
   ],
   "source": [
    "rawDf.isna().sum()"
   ],
   "metadata": {
    "collapsed": false,
    "pycharm": {
     "name": "#%%\n"
    }
   }
  },
  {
   "cell_type": "markdown",
   "source": [
    "Should not do this in production. But will try to impute to 0 in later step for POC modeling."
   ],
   "metadata": {
    "collapsed": false,
    "pycharm": {
     "name": "#%% md\n"
    }
   }
  },
  {
   "cell_type": "markdown",
   "source": [
    "### Subset a few columns"
   ],
   "metadata": {
    "collapsed": false
   }
  },
  {
   "cell_type": "code",
   "execution_count": 38,
   "outputs": [],
   "source": [
    "df = rawDf[['loudness','tempo','track_id','artist_familiarity','artist_hotttnesss','artist_id','artist_name',\n",
    "            'genre','song_hotttnesss','song_id','title']].copy()"
   ],
   "metadata": {
    "collapsed": false,
    "pycharm": {
     "name": "#%%\n"
    }
   }
  },
  {
   "cell_type": "code",
   "execution_count": 147,
   "outputs": [
    {
     "data": {
      "text/plain": "   loudness    tempo            track_id  artist_familiarity  \\\n0   -12.446   93.331  TRAGAAF128F9338911            0.492441   \n1    -8.925  129.493  TRAGACJ128F427118C            0.476969   \n2    -5.893  160.158  TRAGACV128F1474DEC            0.530631   \n3   -11.485   97.004  TRAGADP128EF341C7F            0.680620   \n4   -10.011  107.657  TRAGAGQ128E0781352            0.719313   \n\n   artist_hotttnesss              artist_id        artist_name genre  \\\n0           0.338947  b'ARY1K701187B9A43A9'     b'Joe McBride'   b''   \n1           0.358285  b'ARC28SN1187B989049'  b'Greater Vision'   b''   \n2           0.326236  b'AR5BLB01187FB57E99'      b'Headliners'   b''   \n3           0.440326  b'ART5IUL1187B9B0143'        b'Lady Saw'   b''   \n4           0.472748  b'ARYECDK1187FB45587'  b'The Stranglers'   b''   \n\n   song_hotttnesss             song_id  \\\n0         0.375984  SOFUWDG12A8C142F6D   \n1         0.000000  SONJXBM12A8C13C358   \n2         0.638228  SOOTRFL12A6D4F5428   \n3         0.215080  SOVZVNF12A67ADA382   \n4         0.581494  SOHJRZY12A63110838   \n\n                                           title  year  \n0                  b'This Is How A Heart Breaks'     0  \n1  b\"Heaven's Hero (Featuring Champion Of Love)\"     0  \n2                          b'Sag Ihnen Bescheid'  2005  \n3                            b'Bare As You Dare'  1994  \n4                  b'It Only Takes Two To Tango'  1981  ",
      "text/html": "<div>\n<style scoped>\n    .dataframe tbody tr th:only-of-type {\n        vertical-align: middle;\n    }\n\n    .dataframe tbody tr th {\n        vertical-align: top;\n    }\n\n    .dataframe thead th {\n        text-align: right;\n    }\n</style>\n<table border=\"1\" class=\"dataframe\">\n  <thead>\n    <tr style=\"text-align: right;\">\n      <th></th>\n      <th>loudness</th>\n      <th>tempo</th>\n      <th>track_id</th>\n      <th>artist_familiarity</th>\n      <th>artist_hotttnesss</th>\n      <th>artist_id</th>\n      <th>artist_name</th>\n      <th>genre</th>\n      <th>song_hotttnesss</th>\n      <th>song_id</th>\n      <th>title</th>\n      <th>year</th>\n    </tr>\n  </thead>\n  <tbody>\n    <tr>\n      <th>0</th>\n      <td>-12.446</td>\n      <td>93.331</td>\n      <td>TRAGAAF128F9338911</td>\n      <td>0.492441</td>\n      <td>0.338947</td>\n      <td>b'ARY1K701187B9A43A9'</td>\n      <td>b'Joe McBride'</td>\n      <td>b''</td>\n      <td>0.375984</td>\n      <td>SOFUWDG12A8C142F6D</td>\n      <td>b'This Is How A Heart Breaks'</td>\n      <td>0</td>\n    </tr>\n    <tr>\n      <th>1</th>\n      <td>-8.925</td>\n      <td>129.493</td>\n      <td>TRAGACJ128F427118C</td>\n      <td>0.476969</td>\n      <td>0.358285</td>\n      <td>b'ARC28SN1187B989049'</td>\n      <td>b'Greater Vision'</td>\n      <td>b''</td>\n      <td>0.000000</td>\n      <td>SONJXBM12A8C13C358</td>\n      <td>b\"Heaven's Hero (Featuring Champion Of Love)\"</td>\n      <td>0</td>\n    </tr>\n    <tr>\n      <th>2</th>\n      <td>-5.893</td>\n      <td>160.158</td>\n      <td>TRAGACV128F1474DEC</td>\n      <td>0.530631</td>\n      <td>0.326236</td>\n      <td>b'AR5BLB01187FB57E99'</td>\n      <td>b'Headliners'</td>\n      <td>b''</td>\n      <td>0.638228</td>\n      <td>SOOTRFL12A6D4F5428</td>\n      <td>b'Sag Ihnen Bescheid'</td>\n      <td>2005</td>\n    </tr>\n    <tr>\n      <th>3</th>\n      <td>-11.485</td>\n      <td>97.004</td>\n      <td>TRAGADP128EF341C7F</td>\n      <td>0.680620</td>\n      <td>0.440326</td>\n      <td>b'ART5IUL1187B9B0143'</td>\n      <td>b'Lady Saw'</td>\n      <td>b''</td>\n      <td>0.215080</td>\n      <td>SOVZVNF12A67ADA382</td>\n      <td>b'Bare As You Dare'</td>\n      <td>1994</td>\n    </tr>\n    <tr>\n      <th>4</th>\n      <td>-10.011</td>\n      <td>107.657</td>\n      <td>TRAGAGQ128E0781352</td>\n      <td>0.719313</td>\n      <td>0.472748</td>\n      <td>b'ARYECDK1187FB45587'</td>\n      <td>b'The Stranglers'</td>\n      <td>b''</td>\n      <td>0.581494</td>\n      <td>SOHJRZY12A63110838</td>\n      <td>b'It Only Takes Two To Tango'</td>\n      <td>1981</td>\n    </tr>\n  </tbody>\n</table>\n</div>"
     },
     "execution_count": 147,
     "metadata": {},
     "output_type": "execute_result"
    }
   ],
   "source": [
    "df.head(5)"
   ],
   "metadata": {
    "collapsed": false,
    "pycharm": {
     "name": "#%%\n"
    }
   }
  },
  {
   "cell_type": "markdown",
   "source": [
    "### Decode the IDs to literal string"
   ],
   "metadata": {
    "collapsed": false
   }
  },
  {
   "cell_type": "code",
   "execution_count": 40,
   "outputs": [],
   "source": [
    "df['track_id'] = df['track_id'].apply(lambda x: x[2:-1].encode().decode())"
   ],
   "metadata": {
    "collapsed": false,
    "pycharm": {
     "name": "#%%\n"
    }
   }
  },
  {
   "cell_type": "code",
   "execution_count": 41,
   "outputs": [
    {
     "data": {
      "text/plain": "   loudness    tempo            track_id  artist_familiarity  \\\n0   -12.446   93.331  TRAGAAF128F9338911            0.492441   \n1    -8.925  129.493  TRAGACJ128F427118C            0.476969   \n2    -5.893  160.158  TRAGACV128F1474DEC            0.530631   \n3   -11.485   97.004  TRAGADP128EF341C7F            0.680620   \n4   -10.011  107.657  TRAGAGQ128E0781352            0.719313   \n\n   artist_hotttnesss              artist_id        artist_name genre  \\\n0           0.338947  b'ARY1K701187B9A43A9'     b'Joe McBride'   b''   \n1           0.358285  b'ARC28SN1187B989049'  b'Greater Vision'   b''   \n2           0.326236  b'AR5BLB01187FB57E99'      b'Headliners'   b''   \n3           0.440326  b'ART5IUL1187B9B0143'        b'Lady Saw'   b''   \n4           0.472748  b'ARYECDK1187FB45587'  b'The Stranglers'   b''   \n\n   song_hotttnesss                song_id  \\\n0         0.375984  b'SOFUWDG12A8C142F6D'   \n1         0.000000  b'SONJXBM12A8C13C358'   \n2         0.638228  b'SOOTRFL12A6D4F5428'   \n3         0.215080  b'SOVZVNF12A67ADA382'   \n4         0.581494  b'SOHJRZY12A63110838'   \n\n                                           title  year  \n0                  b'This Is How A Heart Breaks'     0  \n1  b\"Heaven's Hero (Featuring Champion Of Love)\"     0  \n2                          b'Sag Ihnen Bescheid'  2005  \n3                            b'Bare As You Dare'  1994  \n4                  b'It Only Takes Two To Tango'  1981  ",
      "text/html": "<div>\n<style scoped>\n    .dataframe tbody tr th:only-of-type {\n        vertical-align: middle;\n    }\n\n    .dataframe tbody tr th {\n        vertical-align: top;\n    }\n\n    .dataframe thead th {\n        text-align: right;\n    }\n</style>\n<table border=\"1\" class=\"dataframe\">\n  <thead>\n    <tr style=\"text-align: right;\">\n      <th></th>\n      <th>loudness</th>\n      <th>tempo</th>\n      <th>track_id</th>\n      <th>artist_familiarity</th>\n      <th>artist_hotttnesss</th>\n      <th>artist_id</th>\n      <th>artist_name</th>\n      <th>genre</th>\n      <th>song_hotttnesss</th>\n      <th>song_id</th>\n      <th>title</th>\n      <th>year</th>\n    </tr>\n  </thead>\n  <tbody>\n    <tr>\n      <th>0</th>\n      <td>-12.446</td>\n      <td>93.331</td>\n      <td>TRAGAAF128F9338911</td>\n      <td>0.492441</td>\n      <td>0.338947</td>\n      <td>b'ARY1K701187B9A43A9'</td>\n      <td>b'Joe McBride'</td>\n      <td>b''</td>\n      <td>0.375984</td>\n      <td>b'SOFUWDG12A8C142F6D'</td>\n      <td>b'This Is How A Heart Breaks'</td>\n      <td>0</td>\n    </tr>\n    <tr>\n      <th>1</th>\n      <td>-8.925</td>\n      <td>129.493</td>\n      <td>TRAGACJ128F427118C</td>\n      <td>0.476969</td>\n      <td>0.358285</td>\n      <td>b'ARC28SN1187B989049'</td>\n      <td>b'Greater Vision'</td>\n      <td>b''</td>\n      <td>0.000000</td>\n      <td>b'SONJXBM12A8C13C358'</td>\n      <td>b\"Heaven's Hero (Featuring Champion Of Love)\"</td>\n      <td>0</td>\n    </tr>\n    <tr>\n      <th>2</th>\n      <td>-5.893</td>\n      <td>160.158</td>\n      <td>TRAGACV128F1474DEC</td>\n      <td>0.530631</td>\n      <td>0.326236</td>\n      <td>b'AR5BLB01187FB57E99'</td>\n      <td>b'Headliners'</td>\n      <td>b''</td>\n      <td>0.638228</td>\n      <td>b'SOOTRFL12A6D4F5428'</td>\n      <td>b'Sag Ihnen Bescheid'</td>\n      <td>2005</td>\n    </tr>\n    <tr>\n      <th>3</th>\n      <td>-11.485</td>\n      <td>97.004</td>\n      <td>TRAGADP128EF341C7F</td>\n      <td>0.680620</td>\n      <td>0.440326</td>\n      <td>b'ART5IUL1187B9B0143'</td>\n      <td>b'Lady Saw'</td>\n      <td>b''</td>\n      <td>0.215080</td>\n      <td>b'SOVZVNF12A67ADA382'</td>\n      <td>b'Bare As You Dare'</td>\n      <td>1994</td>\n    </tr>\n    <tr>\n      <th>4</th>\n      <td>-10.011</td>\n      <td>107.657</td>\n      <td>TRAGAGQ128E0781352</td>\n      <td>0.719313</td>\n      <td>0.472748</td>\n      <td>b'ARYECDK1187FB45587'</td>\n      <td>b'The Stranglers'</td>\n      <td>b''</td>\n      <td>0.581494</td>\n      <td>b'SOHJRZY12A63110838'</td>\n      <td>b'It Only Takes Two To Tango'</td>\n      <td>1981</td>\n    </tr>\n  </tbody>\n</table>\n</div>"
     },
     "execution_count": 41,
     "metadata": {},
     "output_type": "execute_result"
    }
   ],
   "source": [
    "df.head(5)"
   ],
   "metadata": {
    "collapsed": false,
    "pycharm": {
     "name": "#%%\n"
    }
   }
  },
  {
   "cell_type": "code",
   "execution_count": 42,
   "outputs": [],
   "source": [
    "df['song_id'] = df['song_id'].apply(lambda x: x[2:-1].encode().decode())"
   ],
   "metadata": {
    "collapsed": false,
    "pycharm": {
     "name": "#%%\n"
    }
   }
  },
  {
   "cell_type": "markdown",
   "source": [
    "## Feature Engineering"
   ],
   "metadata": {
    "collapsed": false,
    "pycharm": {
     "name": "#%% md\n"
    }
   }
  },
  {
   "cell_type": "markdown",
   "source": [
    "### Filter for non-zero years"
   ],
   "metadata": {
    "collapsed": false,
    "pycharm": {
     "name": "#%% md\n"
    }
   }
  },
  {
   "cell_type": "code",
   "execution_count": 208,
   "outputs": [],
   "source": [
    "filtered_df = df[df['year'] > 0][['loudness', 'tempo', 'artist_hotttnesss', 'song_hotttnesss', 'artist_familiarity','year','genre']].copy()"
   ],
   "metadata": {
    "collapsed": false,
    "pycharm": {
     "name": "#%%\n"
    }
   }
  },
  {
   "cell_type": "markdown",
   "source": [],
   "metadata": {
    "collapsed": false,
    "pycharm": {
     "name": "#%% md\n"
    }
   }
  },
  {
   "cell_type": "code",
   "execution_count": 209,
   "outputs": [],
   "source": [
    "scaler_step = Pipeline([\n",
    "    (\"imputer\", SimpleImputer(strategy='constant', fill_value=0)),\n",
    "    (\"scaler\", StandardScaler())\n",
    "])\n",
    "\n",
    "encoder_step = Pipeline([\n",
    "    (\"encoder\", OneHotEncoder())\n",
    "])"
   ],
   "metadata": {
    "collapsed": false,
    "pycharm": {
     "name": "#%%\n"
    }
   }
  },
  {
   "cell_type": "code",
   "execution_count": 210,
   "outputs": [],
   "source": [
    "transformers = ColumnTransformer([\n",
    "    (\"scaler_process\", scaler_step, ['loudness', 'tempo', 'artist_hotttnesss', 'song_hotttnesss', 'artist_familiarity']),\n",
    "    (\"encoder_process\", encoder_step, ['year','genre'])\n",
    "])"
   ],
   "metadata": {
    "collapsed": false,
    "pycharm": {
     "name": "#%%\n"
    }
   }
  },
  {
   "cell_type": "code",
   "source": [
    "toy_pipeline = Pipeline([\n",
    "    (\"processor\", transformers),\n",
    "    (\"modeller\", KMeans(random_state=23))\n",
    "])"
   ],
   "metadata": {
    "collapsed": false,
    "pycharm": {
     "name": "#%%\n"
    }
   },
   "execution_count": null,
   "outputs": []
  },
  {
   "cell_type": "markdown",
   "source": [
    "## Prep data set for training"
   ],
   "metadata": {
    "collapsed": false
   }
  },
  {
   "cell_type": "markdown",
   "source": [
    "#### Split the data"
   ],
   "metadata": {
    "collapsed": false,
    "pycharm": {
     "name": "#%% md\n"
    }
   }
  },
  {
   "cell_type": "code",
   "execution_count": 186,
   "outputs": [],
   "source": [
    "train_indices = np.random.choice(filtered_df.index, size=int(filtered_df.shape[0]*0.8), replace=False)"
   ],
   "metadata": {
    "collapsed": false,
    "pycharm": {
     "name": "#%%\n"
    }
   }
  },
  {
   "cell_type": "code",
   "execution_count": 187,
   "outputs": [],
   "source": [
    "test_df = filtered_df[~filtered_df.index.isin(train_indices)]\n",
    "train_df = filtered_df[filtered_df.index.isin(train_indices)]"
   ],
   "metadata": {
    "collapsed": false,
    "pycharm": {
     "name": "#%%\n"
    }
   }
  },
  {
   "cell_type": "markdown",
   "source": [
    "#### Feed the train set to pipeline"
   ],
   "metadata": {
    "collapsed": false,
    "pycharm": {
     "name": "#%% md\n"
    }
   }
  },
  {
   "cell_type": "code",
   "execution_count": 188,
   "outputs": [
    {
     "data": {
      "text/plain": "Pipeline(steps=[('processor',\n                 ColumnTransformer(transformers=[('scaler_process',\n                                                  Pipeline(steps=[('imputer',\n                                                                   SimpleImputer(fill_value=0,\n                                                                                 strategy='constant')),\n                                                                  ('scaler',\n                                                                   StandardScaler())]),\n                                                  ['loudness', 'tempo',\n                                                   'artist_hotttnesss',\n                                                   'song_hotttnesss',\n                                                   'artist_familiarity']),\n                                                 ('encoder_process',\n                                                  Pipeline(steps=[('encoder',\n                                                                   OneHotEncoder())]),\n                                                  ['year', 'genre'])])),\n                ('modeller', KMeans(random_state=23))])"
     },
     "execution_count": 188,
     "metadata": {},
     "output_type": "execute_result"
    }
   ],
   "source": [
    "toy_pipeline.fit(train_df)"
   ],
   "metadata": {
    "collapsed": false,
    "pycharm": {
     "name": "#%%\n"
    }
   }
  },
  {
   "cell_type": "code",
   "execution_count": 189,
   "outputs": [
    {
     "data": {
      "text/plain": "{'memory': None,\n 'steps': [('processor',\n   ColumnTransformer(transformers=[('scaler_process',\n                                    Pipeline(steps=[('imputer',\n                                                     SimpleImputer(fill_value=0,\n                                                                   strategy='constant')),\n                                                    ('scaler', StandardScaler())]),\n                                    ['loudness', 'tempo', 'artist_hotttnesss',\n                                     'song_hotttnesss', 'artist_familiarity']),\n                                   ('encoder_process',\n                                    Pipeline(steps=[('encoder', OneHotEncoder())]),\n                                    ['year', 'genre'])])),\n  ('modeller', KMeans(random_state=23))],\n 'verbose': False,\n 'processor': ColumnTransformer(transformers=[('scaler_process',\n                                  Pipeline(steps=[('imputer',\n                                                   SimpleImputer(fill_value=0,\n                                                                 strategy='constant')),\n                                                  ('scaler', StandardScaler())]),\n                                  ['loudness', 'tempo', 'artist_hotttnesss',\n                                   'song_hotttnesss', 'artist_familiarity']),\n                                 ('encoder_process',\n                                  Pipeline(steps=[('encoder', OneHotEncoder())]),\n                                  ['year', 'genre'])]),\n 'modeller': KMeans(random_state=23),\n 'processor__n_jobs': None,\n 'processor__remainder': 'drop',\n 'processor__sparse_threshold': 0.3,\n 'processor__transformer_weights': None,\n 'processor__transformers': [('scaler_process',\n   Pipeline(steps=[('imputer', SimpleImputer(fill_value=0, strategy='constant')),\n                   ('scaler', StandardScaler())]),\n   ['loudness',\n    'tempo',\n    'artist_hotttnesss',\n    'song_hotttnesss',\n    'artist_familiarity']),\n  ('encoder_process',\n   Pipeline(steps=[('encoder', OneHotEncoder())]),\n   ['year', 'genre'])],\n 'processor__verbose': False,\n 'processor__verbose_feature_names_out': True,\n 'processor__scaler_process': Pipeline(steps=[('imputer', SimpleImputer(fill_value=0, strategy='constant')),\n                 ('scaler', StandardScaler())]),\n 'processor__encoder_process': Pipeline(steps=[('encoder', OneHotEncoder())]),\n 'processor__scaler_process__memory': None,\n 'processor__scaler_process__steps': [('imputer',\n   SimpleImputer(fill_value=0, strategy='constant')),\n  ('scaler', StandardScaler())],\n 'processor__scaler_process__verbose': False,\n 'processor__scaler_process__imputer': SimpleImputer(fill_value=0, strategy='constant'),\n 'processor__scaler_process__scaler': StandardScaler(),\n 'processor__scaler_process__imputer__add_indicator': False,\n 'processor__scaler_process__imputer__copy': True,\n 'processor__scaler_process__imputer__fill_value': 0,\n 'processor__scaler_process__imputer__missing_values': nan,\n 'processor__scaler_process__imputer__strategy': 'constant',\n 'processor__scaler_process__imputer__verbose': 0,\n 'processor__scaler_process__scaler__copy': True,\n 'processor__scaler_process__scaler__with_mean': True,\n 'processor__scaler_process__scaler__with_std': True,\n 'processor__encoder_process__memory': None,\n 'processor__encoder_process__steps': [('encoder', OneHotEncoder())],\n 'processor__encoder_process__verbose': False,\n 'processor__encoder_process__encoder': OneHotEncoder(),\n 'processor__encoder_process__encoder__categories': 'auto',\n 'processor__encoder_process__encoder__drop': None,\n 'processor__encoder_process__encoder__dtype': numpy.float64,\n 'processor__encoder_process__encoder__handle_unknown': 'error',\n 'processor__encoder_process__encoder__sparse': True,\n 'modeller__algorithm': 'auto',\n 'modeller__copy_x': True,\n 'modeller__init': 'k-means++',\n 'modeller__max_iter': 300,\n 'modeller__n_clusters': 8,\n 'modeller__n_init': 10,\n 'modeller__random_state': 23,\n 'modeller__tol': 0.0001,\n 'modeller__verbose': 0}"
     },
     "execution_count": 189,
     "metadata": {},
     "output_type": "execute_result"
    }
   ],
   "source": [
    "toy_pipeline.get_params()"
   ],
   "metadata": {
    "collapsed": false,
    "pycharm": {
     "name": "#%%\n"
    }
   }
  },
  {
   "cell_type": "code",
   "source": [
    "# extract model\n",
    "my_kmeans = toy_pipeline['modeller']"
   ],
   "metadata": {
    "collapsed": false,
    "pycharm": {
     "name": "#%%\n"
    }
   },
   "execution_count": null,
   "outputs": []
  },
  {
   "cell_type": "code",
   "execution_count": 202,
   "outputs": [],
   "source": [
    "# extract transformer to transform data for scoring\n",
    "transformed_train_df = toy_pipeline['processor'].fit_transform(train_df)"
   ],
   "metadata": {
    "collapsed": false,
    "pycharm": {
     "name": "#%%\n"
    }
   }
  },
  {
   "cell_type": "markdown",
   "source": [
    "#### Scoring"
   ],
   "metadata": {
    "collapsed": false,
    "pycharm": {
     "name": "#%% md\n"
    }
   }
  },
  {
   "cell_type": "code",
   "execution_count": 205,
   "outputs": [
    {
     "data": {
      "text/plain": "0.1403434763910347"
     },
     "execution_count": 205,
     "metadata": {},
     "output_type": "execute_result"
    }
   ],
   "source": [
    "silhouette_score(transformed_train_df, my_kmeans.labels_, metric='euclidean',sample_size=int(train_df.shape[0]*0.3))"
   ],
   "metadata": {
    "collapsed": false,
    "pycharm": {
     "name": "#%%\n"
    }
   }
  },
  {
   "cell_type": "code",
   "execution_count": 207,
   "outputs": [
    {
     "data": {
      "text/plain": "471.87767039472277"
     },
     "execution_count": 207,
     "metadata": {},
     "output_type": "execute_result"
    }
   ],
   "source": [
    "calinski_harabasz_score(transformed_train_df.toarray(), my_kmeans.labels_)"
   ],
   "metadata": {
    "collapsed": false,
    "pycharm": {
     "name": "#%%\n"
    }
   }
  },
  {
   "cell_type": "markdown",
   "source": [
    "## Incorporate Lyrics to extract new feature ~ offensive lyrics tag"
   ],
   "metadata": {
    "collapsed": false,
    "pycharm": {
     "name": "#%% md\n"
    }
   }
  },
  {
   "cell_type": "markdown",
   "source": [
    "### Get lyrics"
   ],
   "metadata": {
    "collapsed": false
   }
  },
  {
   "cell_type": "code",
   "execution_count": 68,
   "outputs": [],
   "source": [
    "conn = sqlite3.connect('mxm_dataset.db')"
   ],
   "metadata": {
    "collapsed": false,
    "pycharm": {
     "name": "#%%\n"
    }
   }
  },
  {
   "cell_type": "code",
   "execution_count": 69,
   "outputs": [],
   "source": [
    "cursor = conn.cursor()"
   ],
   "metadata": {
    "collapsed": false,
    "pycharm": {
     "name": "#%%\n"
    }
   }
  },
  {
   "cell_type": "code",
   "execution_count": 70,
   "outputs": [
    {
     "name": "stdout",
     "output_type": "stream",
     "text": [
      "[('i',), ('the',), ('you',), ('to',), ('and',), ('a',), ('me',), ('it',), ('not',), ('in',), ('my',), ('is',), ('that',), ('do',), ('we',), ('am',), ('will',), ('all',), ('no',), ('be',), ('have',), ('love',), ('so',), ('know',), ('but',), ('with',), ('what',), ('just',), ('like',), ('now',), ('can',), ('go',), ('up',), ('get',), ('got',), ('feel',), ('want',), ('let',), ('make',), ('way',), ('say',), ('would',), ('ca',), ('away',), ('her',), ('heart',), ('how',), ('more',), ('gonna',), ('right',), ('been',), ('tell',), ('too',), ('find',), ('good',), ('about',), ('over',), ('into',), ('run',), ('has',), ('cri',), ('word',), ('much',), ('break',), ('start',), ('should',), ('without',), ('mine',), ('use',), ('fight',), ('sure',), ('happi',), ('hurt',), ('yet',), ('dear',), ('darl',), ('share',), ('guy',), ('suffer',), ('wide',), ('explain',), ('fals',), ('sheep',)]\n"
     ]
    }
   ],
   "source": [
    "test_select_query = f'SELECT word FROM lyrics WHERE track_id = \"{df.iloc[3948,2]}\"'"
   ],
   "metadata": {
    "collapsed": false,
    "pycharm": {
     "name": "#%%\n"
    }
   }
  },
  {
   "cell_type": "code",
   "execution_count": null,
   "outputs": [],
   "source": [
    "test_result = cursor.execute(test_select_query).fetchall()"
   ],
   "metadata": {
    "collapsed": false,
    "pycharm": {
     "name": "#%%\n"
    }
   }
  },
  {
   "cell_type": "code",
   "execution_count": null,
   "outputs": [],
   "source": [
    "print(test_result)"
   ],
   "metadata": {
    "collapsed": false,
    "pycharm": {
     "name": "#%%\n"
    }
   }
  },
  {
   "cell_type": "markdown",
   "source": [
    "### Create new song table from the df"
   ],
   "metadata": {
    "collapsed": false
   }
  },
  {
   "cell_type": "code",
   "execution_count": null,
   "outputs": [],
   "source": [
    "df.to_sql('songs',conn, 'append')"
   ],
   "metadata": {
    "collapsed": false,
    "pycharm": {
     "name": "#%%\n"
    }
   }
  },
  {
   "cell_type": "markdown",
   "source": [
    "### Get only songs with lyrics"
   ],
   "metadata": {
    "collapsed": false
   }
  },
  {
   "cell_type": "code",
   "execution_count": 75,
   "outputs": [
    {
     "data": {
      "text/plain": "173438"
     },
     "execution_count": 75,
     "metadata": {},
     "output_type": "execute_result"
    }
   ],
   "source": [
    "matched_lyrics_query = 'SELECT s.*, l.word, l.count, l.is_test FROM songs AS s LEFT JOIN lyrics AS l ON s.track_id = l.track_id'"
   ],
   "metadata": {
    "collapsed": false,
    "pycharm": {
     "name": "#%%\n"
    }
   }
  },
  {
   "cell_type": "code",
   "execution_count": 185,
   "outputs": [],
   "source": [
    "matched_df = cursor.execute(matched_lyrics_query).fetchall()"
   ],
   "metadata": {
    "collapsed": false,
    "pycharm": {
     "name": "#%%\n"
    }
   }
  },
  {
   "cell_type": "code",
   "execution_count": 192,
   "outputs": [],
   "source": [
    "len(matched_df)"
   ],
   "metadata": {
    "collapsed": false,
    "pycharm": {
     "name": "#%%\n"
    }
   }
  },
  {
   "cell_type": "code",
   "execution_count": null,
   "outputs": [],
   "source": [],
   "metadata": {
    "collapsed": false,
    "pycharm": {
     "name": "#%%\n"
    }
   }
  }
 ],
 "metadata": {
  "kernelspec": {
   "display_name": "Python 3",
   "language": "python",
   "name": "python3"
  },
  "language_info": {
   "codemirror_mode": {
    "name": "ipython",
    "version": 2
   },
   "file_extension": ".py",
   "mimetype": "text/x-python",
   "name": "python",
   "nbconvert_exporter": "python",
   "pygments_lexer": "ipython2",
   "version": "2.7.6"
  }
 },
 "nbformat": 4,
 "nbformat_minor": 0
}