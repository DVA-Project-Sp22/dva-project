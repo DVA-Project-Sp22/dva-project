{
 "cells": [
  {
   "cell_type": "markdown",
   "metadata": {},
   "source": [
    "# Matrix Calculator With Clusters"
   ]
  },
  {
   "cell_type": "code",
   "execution_count": 3,
   "metadata": {},
   "outputs": [],
   "source": [
    "# from sagemaker import get_execution_role\n",
    "from sagemaker.processing import ProcessingInput, ProcessingOutput\n",
    "from sagemaker.sklearn.processing import SKLearnProcessor"
   ]
  },
  {
   "cell_type": "code",
   "execution_count": 4,
   "metadata": {},
   "outputs": [],
   "source": [
    "# role = get_execution_role()\n",
    "\n",
    "sklearn_processor = SKLearnProcessor(framework_version = '0.20.0',\n",
    "                                     role = \"AmazonSageMaker-ExecutionRole-20211115T123876\",\n",
    "                                     instance_type = 'ml.m5.24xlarge',\n",
    "                                     instance_count = 1)"
   ]
  },
  {
   "cell_type": "markdown",
   "metadata": {},
   "source": [
    "This code runs a background job"
   ]
  },
  {
   "cell_type": "code",
   "execution_count": 5,
   "metadata": {},
   "outputs": [
    {
     "name": "stdout",
     "output_type": "stream",
     "text": [
      "\n",
      "Job Name:  sagemaker-scikit-learn-2022-04-16-19-26-44-105\n",
      "Inputs:  [{'InputName': 'input-1', 'AppManaged': False, 'S3Input': {'S3Uri': 's3://sagemaker-us-east-1-269905429211/sagemaker-scikit-learn-2022-04-16-19-26-44-105/input/input-1/songdata.csv', 'LocalPath': '/opt/ml/processing/input', 'S3DataType': 'S3Prefix', 'S3InputMode': 'File', 'S3DataDistributionType': 'FullyReplicated', 'S3CompressionType': 'None'}}, {'InputName': 'code', 'AppManaged': False, 'S3Input': {'S3Uri': 's3://sagemaker-us-east-1-269905429211/sagemaker-scikit-learn-2022-04-16-19-26-44-105/input/code/processing.py', 'LocalPath': '/opt/ml/processing/input/code', 'S3DataType': 'S3Prefix', 'S3InputMode': 'File', 'S3DataDistributionType': 'FullyReplicated', 'S3CompressionType': 'None'}}]\n",
      "Outputs:  [{'OutputName': 'songlist', 'AppManaged': False, 'S3Output': {'S3Uri': 's3://sagemaker-us-east-1-269905429211/sagemaker-scikit-learn-2022-04-16-19-26-44-105/output/songlist', 'LocalPath': '/opt/ml/processing/output', 'S3UploadMode': 'EndOfJob'}}]\n",
      "........................../miniconda3/lib/python3.7/site-packages/sklearn/externals/joblib/externals/cloudpickle/cloudpickle.py:47: DeprecationWarning: the imp module is deprecated in favour of importlib; see the module's documentation for alternative uses\n",
      "  import imp\n",
      "Pulling CSV\n",
      "Creating Dataframe\n",
      "(433184, 9)\n",
      "Running Kmeans\n",
      "Processing Data\n",
      "Run KMeans\n"
     ]
    }
   ],
   "source": [
    "sklearn_processor.run(code='processing.py', #This script does all the processing, make changes here\n",
    "                      inputs=[ProcessingInput(\n",
    "                          source=\"songdata.csv\",\n",
    "                          destination='/opt/ml/processing/input')],\n",
    "                      outputs=[ProcessingOutput(\n",
    "                          output_name='songlist',\n",
    "                          source='/opt/ml/processing/output')]\n",
    "                     )"
   ]
  }
 ],
 "metadata": {
  "instance_type": "ml.t3.medium",
  "interpreter": {
   "hash": "1c53e9bdfe80d3c5583b741a8a24bc6913c1a8c4f7d300128dacddd53305a040"
  },
  "kernelspec": {
   "display_name": "Python 3 (Data Science)",
   "language": "python",
   "name": "python3"
  },
  "language_info": {
   "codemirror_mode": {
    "name": "ipython",
    "version": 3
   },
   "file_extension": ".py",
   "mimetype": "text/x-python",
   "name": "python",
   "nbconvert_exporter": "python",
   "pygments_lexer": "ipython3",
   "version": "3.9.7"
  }
 },
 "nbformat": 4,
 "nbformat_minor": 4
}
